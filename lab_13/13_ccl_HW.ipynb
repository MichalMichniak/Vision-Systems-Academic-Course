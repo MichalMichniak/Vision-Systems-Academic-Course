{
 "cells": [
  {
   "cell_type": "code",
   "execution_count": null,
   "metadata": {},
   "outputs": [],
   "source": [
    "\n",
    "import os\n",
    "import cv2\n",
    "import matplotlib.pyplot as plt\n",
    "import numpy as np\n",
    "\n",
    "\n",
    "if not os.path.exists(\"ccl1.png\") :\n",
    "    !wget https://raw.githubusercontent.com/vision-agh/poc_sw/master/13_CCL/details.png --no-check-certificate\n",
    "\n",
    "I_details = cv2.imread(\"details.png\",cv2.IMREAD_GRAYSCALE)\n",
    "plt.imshow(I_details)\n",
    "plt.gray()\n",
    "plt.xticks([])\n",
    "plt.yticks([])\n",
    "plt.show()"
   ]
  },
  {
   "cell_type": "code",
   "execution_count": null,
   "metadata": {},
   "outputs": [],
   "source": [
    "def Amf_phase_B(S,z_xy):\n",
    "    if np.max(S) > z_xy > np.min(S):\n",
    "        return z_xy\n",
    "    else:\n",
    "        return np.median(S)\n",
    "def Amf_phase_A(img,x,y,min_convo,max_convo):\n",
    "    convo = min_convo\n",
    "    S = img[y-convo//2:y+convo//2+1,x-convo//2:x+convo//2+1]\n",
    "    while True:\n",
    "        if np.max(S) > np.median(S) > np.min(S):\n",
    "            return Amf_phase_B(S,img[y,x])\n",
    "        else:\n",
    "            convo += 2\n",
    "            S = img[y-convo//2:y+convo//2+1,x-convo//2:x+convo//2+1]\n",
    "            if convo<=max_convo:\n",
    "                continue\n",
    "            else:\n",
    "                return np.median(S)\n",
    "                \n",
    "def Adaptive_median_filtr(img, min_convo = 3 , max_convo = 7):\n",
    "    return np.array([[ Amf_phase_A(img,j,i,min_convo,max_convo)  for j in range(max_convo//2,len(img[0])-max_convo//2)] for i in range(max_convo//2,len(img)-max_convo//2)])"
   ]
  },
  {
   "cell_type": "code",
   "execution_count": null,
   "metadata": {},
   "outputs": [],
   "source": [
    "def segmentation2(img,x,y,th = 4):\n",
    "    img = img.astype(float)\n",
    "    visited = np.zeros(img.shape, dtype=bool)\n",
    "    segmented = np.zeros(img.shape, dtype=\"uint8\")\n",
    "    stack = []\n",
    "    stack.append((x,y))\n",
    "    visited[x,y] = True\n",
    "    segmented[x,y] = 1\n",
    "    Sn = 0\n",
    "    mV = img[x,y]\n",
    "    while stack != []:\n",
    "        x,y = stack[0]\n",
    "        stack.pop(0)\n",
    "        Sn +=1\n",
    "        mV = (mV*(Sn-1) + img[x,y])/Sn\n",
    "        for xi,yi in [(x+i,y+j) for i in [-1,0,1] for j in [-1,0,1] if ((i!=0 or j!=0) and (0<x+i<img.shape[0]-1) and (0<y+j<img.shape[1]-1))]:\n",
    "            if not visited[xi,yi]:\n",
    "                visited[xi,yi] = True\n",
    "                d = abs(mV - img[xi,yi])\n",
    "                if d<=th:\n",
    "                    stack.append((xi,yi))\n",
    "                    segmented[xi,yi] = 1\n",
    "    return segmented"
   ]
  },
  {
   "cell_type": "code",
   "execution_count": null,
   "metadata": {},
   "outputs": [],
   "source": [
    "I_details_adaptive = Adaptive_median_filtr(I_details, max_convo=7).astype('uint8')"
   ]
  },
  {
   "cell_type": "code",
   "execution_count": null,
   "metadata": {},
   "outputs": [],
   "source": [
    "\n",
    "#I_details_BBHE = 255 - cv2.adaptiveThreshold(I_details_adaptive,255,cv2.ADAPTIVE_THRESH_MEAN_C,cv2.THRESH_BINARY,11,4)\n",
    "#I_details_BBHE = segmentation2(I_details_adaptive,122,222,70)\n",
    "#I_details_adaptive_2 = Adaptive_median_filtr(I_details_BBHE, max_convo=7).astype('uint8')\n",
    "#I_details_BBHE = cv2.morphologyEx(I_details_BBHE,cv2.MORPH_OPEN,np.ones((3,3)))\n",
    "#I_details_BBHE = cv2.morphologyEx(I_details_BBHE,cv2.MORPH_OPEN,np.ones((3,3)))\n",
    "I_details_BBHE = segmentation2(I_details_adaptive,122,222,80)\n",
    "I = I_details_adaptive - I_details_adaptive * I_details_BBHE\n",
    "I = (I>0)[1:-1,1:-1]\n",
    "plt.imshow(I)\n",
    "plt.gray()\n",
    "plt.xticks([])\n",
    "plt.yticks([])\n",
    "plt.show()"
   ]
  },
  {
   "cell_type": "code",
   "execution_count": null,
   "metadata": {},
   "outputs": [],
   "source": [
    "tab = np.zeros(I.shape)\n",
    "for i in range(len(I)):\n",
    "    for j in range(len(I[i])):\n",
    "        if I[i,j] == 1 and tab[i,j] != 1:\n",
    "            tab = np.logical_or(segmentation2(I_details_adaptive[1:-1,1:-1],i,j,30),tab)\n",
    "plt.imshow(tab)\n",
    "plt.gray()\n",
    "plt.xticks([])\n",
    "plt.yticks([])\n",
    "plt.show()\n",
    "I_details_ad = 255 - cv2.adaptiveThreshold(I_details_adaptive,255,cv2.ADAPTIVE_THRESH_MEAN_C,cv2.THRESH_BINARY,11,4)\n",
    "I_ad = Adaptive_median_filtr(I_details_ad, max_convo=7).astype('uint8')\n",
    "plt.imshow(I_details_ad)\n",
    "plt.gray()\n",
    "plt.xticks([])\n",
    "plt.yticks([])\n",
    "plt.show()\n",
    "I = np.logical_or(I_details_ad[1:-1,1:-1],tab)\n",
    "plt.imshow(I)\n",
    "plt.gray()\n",
    "plt.xticks([])\n",
    "plt.yticks([])\n",
    "plt.show()"
   ]
  },
  {
   "cell_type": "code",
   "execution_count": null,
   "metadata": {},
   "outputs": [],
   "source": [
    "#I_details_morph = cv2.morphologyEx(tab.astype('uint8'),cv2.MORPH_DILATE,np.ones((5,5)))\n",
    "\n",
    "I_details_morph = cv2.morphologyEx(I.astype('uint8'),cv2.MORPH_CLOSE,np.ones((3,3)))\n",
    "I_details_morph = cv2.morphologyEx(I_details_morph.astype('uint8'),cv2.MORPH_OPEN,np.ones((5,1)))\n",
    "I_details_morph = cv2.morphologyEx(I_details_morph.astype('uint8'),cv2.MORPH_OPEN,np.ones((1,5)))\n",
    "I_details_morph = cv2.morphologyEx(tab.astype('uint8'),cv2.MORPH_DILATE,np.ones((4,4)))\n",
    "\n",
    "_,res = cv2.connectedComponents(I_details_morph)\n",
    "plt.imshow(res)\n",
    "plt.gray()\n",
    "plt.xticks([])\n",
    "plt.yticks([])\n",
    "plt.show()"
   ]
  },
  {
   "cell_type": "code",
   "execution_count": null,
   "metadata": {},
   "outputs": [],
   "source": [
    "l,res = cv2.connectedComponents(I_details_morph)\n",
    "ccl = 1\n",
    "M = []\n",
    "while ccl<l+1:\n",
    "    I = (res == ccl)*1\n",
    "    I = I.astype('uint8')\n",
    "    moments = cv2.moments(I)\n",
    "    Hu_moment = cv2.HuMoments(moments)\n",
    "    M.append(Hu_moment.reshape(len(Hu_moment)))\n",
    "    ccl+=1\n",
    "M = np.array(M)\n",
    "print(len(M))\n"
   ]
  },
  {
   "cell_type": "code",
   "execution_count": null,
   "metadata": {},
   "outputs": [],
   "source": [
    "\n",
    "new = np.zeros(res.shape)\n",
    "ccl = 1\n",
    "while ccl<l+1:\n",
    "    if M[ccl-1,3]>0.00015:\n",
    "        new += (res == ccl)*1\n",
    "    ccl+=1\n",
    "plt.imshow(new)\n",
    "plt.gray()\n",
    "plt.xticks([])\n",
    "plt.yticks([])\n",
    "plt.show()\n"
   ]
  },
  {
   "cell_type": "markdown",
   "metadata": {},
   "source": [
    "śrubki"
   ]
  },
  {
   "cell_type": "code",
   "execution_count": null,
   "metadata": {},
   "outputs": [],
   "source": [
    "\n",
    "new = np.zeros(res.shape)\n",
    "ccl = 1\n",
    "while ccl<l+1:\n",
    "    if np.logical_and(np.logical_and(M[ccl-1,3]<0.00015,np.logical_or(np.logical_and(M[ccl-1,1]>0.000031,M[ccl-1,6]<0.00000000000005),np.logical_and(M[ccl-1,3]>0.000000015,M[ccl-1,4]>0.0000000000015))),np.logical_or(M[ccl-1,2]<0.0000032,M[ccl-1,2]>0.0000033)):#M[ccl-1,5]>0.0000000000015\n",
    "        new += (res == ccl)*1\n",
    "    ccl+=1\n",
    "plt.imshow(new)\n",
    "plt.gray()\n",
    "plt.xticks([])\n",
    "plt.yticks([])\n",
    "plt.show()\n"
   ]
  },
  {
   "cell_type": "markdown",
   "metadata": {},
   "source": [
    "nakrętki"
   ]
  },
  {
   "cell_type": "code",
   "execution_count": null,
   "metadata": {},
   "outputs": [],
   "source": [
    "\n",
    "new = np.zeros(res.shape)\n",
    "ccl = 1\n",
    "while ccl<l+1:\n",
    "    if np.logical_and(np.logical_not(np.logical_and(np.logical_or(M[ccl-1,2]<0.0000032,M[ccl-1,2]>0.0000033),np.logical_or(np.logical_and(M[ccl-1,1]>0.000031,M[ccl-1,6]<0.00000000000005),np.logical_and(M[ccl-1,3]>0.000000015,M[ccl-1,4]>0.0000000000015)))),M[ccl-1,3]<0.00015):\n",
    "        new += (res == ccl)*1\n",
    "    ccl+=1\n",
    "plt.imshow(new)\n",
    "plt.gray()\n",
    "plt.xticks([])\n",
    "plt.yticks([])\n",
    "plt.show()"
   ]
  },
  {
   "cell_type": "markdown",
   "metadata": {},
   "source": [
    "nakładki"
   ]
  }
 ],
 "metadata": {
  "kernelspec": {
   "display_name": "Python 3.8.8 ('base')",
   "language": "python",
   "name": "python3"
  },
  "language_info": {
   "codemirror_mode": {
    "name": "ipython",
    "version": 3
   },
   "file_extension": ".py",
   "mimetype": "text/x-python",
   "name": "python",
   "nbconvert_exporter": "python",
   "pygments_lexer": "ipython3",
   "version": "3.8.8"
  },
  "orig_nbformat": 4,
  "vscode": {
   "interpreter": {
    "hash": "7f46a541a5fcb097b81b0a1ed969985dcdc63c81f34ae8abef835ad67b1a564a"
   }
  }
 },
 "nbformat": 4,
 "nbformat_minor": 2
}
