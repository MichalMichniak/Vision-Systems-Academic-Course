{
 "cells": [
  {
   "cell_type": "markdown",
   "metadata": {},
   "source": [
    "W ramach kursu będziemy wykorzystywać głównie bibliotekę OpenCV (Open Computer Vision Library).\n",
    "W trakcie niniejszego ćwiczenia zapoznamy się z podstawowymi funkcjonalnościami: wczytaniami, zapisywaniem, konwersją do inne przestrzeni barw.\n",
    "Zaznajomimy się również z Jupyter Notebook."
   ]
  },
  {
   "cell_type": "markdown",
   "metadata": {},
   "source": [
    "Wczytywanie obrazów z wykorzystaniem OpenCV.\n",
    "1. Zaimportuj bibliotekę OpenCV:\n",
    "        `import cv2`\n",
    "1. Zaimportuj bibliotekę pyplot z matplotlib jako plt:\n",
    "        `from matplotlib import pyplot as plt`\n",
    "1. Wygodną opcją jest możliwość pobierania danych (obrazów, ale też np. baz danych) z sieci.\n",
    "   Eliminuje to konieczność pobierania danych np. z Moodle oraz czyni uzupełniony Notebook \"samowystarczalnym\" - wystarczy go uruchomić.\n",
    "   * zaimportuj bibliotekę `import os`\n",
    "   * sprawdź, czy taki plik istnieje (unikniemy wielokrotnego pobierania tych samych danych)\n",
    "        `if not os.path.exists(\"mandril.jpg\") :`\n",
    "   * pobierz obraz: `!wget https://raw.githubusercontent.com/vision-agh/poc_sw/master/01_Intro/mandril.jpg`\n",
    "\n",
    "1. Wykorzystując polecenie *imread* wczytaj obraz *mandril.jpg*\n",
    "1. Wyświetl obraz wykorzystując bibliotekę *pyplot*\n",
    "        plt.imshow(I)\n",
    "        plt.xticks([]), plt.yticks([])\n",
    "        plt.show()\n",
    "1. Jeśli ktoś nie wie jak powinien wyglądać mandryl, to proszę podglądnąć obraz na GitHub lub w sprawdzić w Interencie.\n",
    "   Przyczyną problemu jest sposób w jaki funkcja `imread` z OpenCV odczytuje obraz (BGR, zamiast RGB).\n",
    "   Obrazom kolorowym będzie poświęcone odrębne ćwiczenie, także nie będziemy w tym miejscu rozwijać tego wątku.\n",
    "1. W celu poprawnego wyświetlenia należy dokonać konwersji koloru z BGR na RGB.\n",
    "        I = cv2.cvtColor(I, cv2.COLOR_BGR2RGB)\n",
    "1. Dla porządku warto dodać, że w OpenCV do wyświetlania domyślnie wykorzystuje się funkcję `imshow`.\n",
    "   Jednakże w przypadku Jupyter Notebook to rozwiązanie ma pewne wady i dlatego nie będziemy jej używać.\n",
    "   Natomiast jeśli ktoś pracuje w \"czystym\" Python, to jest to na pewno równoważna funkcjonalność.\n"
   ]
  },
  {
   "cell_type": "code",
   "execution_count": null,
   "metadata": {},
   "outputs": [],
   "source": [
    "import os\n",
    "import cv2\n",
    "from matplotlib import pyplot as plt\n",
    "if not os.path.exists(\"mandril.jpg\") :\n",
    "    !wget https://raw.githubusercontent.com/vision-agh/poc_sw/master/01_Intro/mandril.jpg\n",
    "I = cv2.imread(\"mandril.jpg\")\n",
    "I = cv2.cvtColor(I, cv2.COLOR_BGR2RGB)\n",
    "plt.imshow(I)\n",
    "plt.xticks([]), plt.yticks([])\n",
    "plt.show()"
   ]
  },
  {
   "cell_type": "markdown",
   "metadata": {},
   "source": [
    "W praktycznych rozważaniach często analizuje się obrazy w odcieniach szarości (ang. *grayscale*).\n",
    "Do konwersji służy znana już funkcja `cvtColor` tylko tym razem z parametrem `cv2.COLOR_RGB2GRAY`.\n",
    "Proszę spróbować wyświetlić obraz.\n",
    "Może okazać się, że nadal jest kolorowy, choć inaczej.\n",
    "Dlaczego tak się dzieje zostanie obszerniej wyjaśnione pod koniec ćwiczenia.\n",
    "Na razie należy dodać polecenie `plt.gray()` przed `plt.show`.\n"
   ]
  },
  {
   "cell_type": "code",
   "execution_count": null,
   "metadata": {},
   "outputs": [],
   "source": [
    "IG = cv2.cvtColor(I, cv2.COLOR_RGB2GRAY)\n",
    "plt.gray()\n",
    "plt.imshow(IG)\n",
    "plt.xticks([]), plt.yticks([])\n",
    "plt.show()"
   ]
  },
  {
   "cell_type": "markdown",
   "metadata": {},
   "source": [
    "Czasami konieczne jest zapisanie przetworzonego obrazu.\n",
    "Służy do tego funkcja `cv2.imwrite`.\n",
    "Proszę zapisać szarą wersję mandryla w formacie *png*.\n",
    "Warto sprawdzić, czy obraz zapisał się poprawnie tj. otworzyć go w aplikacji do przeglądania obrazów."
   ]
  },
  {
   "cell_type": "code",
   "execution_count": null,
   "metadata": {},
   "outputs": [],
   "source": [
    "cv2.imwrite(\"mandril.png\",IG)\n"
   ]
  },
  {
   "cell_type": "markdown",
   "metadata": {},
   "source": [
    "Obraz w skali szarości możemy traktować jako dwuwymiarową funkcję $L(x,y)$, gdzie $x$, $y$ to współrzędne piksela, a $L(x,y)$ poziom jasności (najczęściej [0;255] - zapis na 8-bitach, typ *unsigned int*).\n",
    "Wyświetl obraz mandryl jako funkcję dwuwymiarową (uwaga - to chwilę się liczy):\n"
   ]
  },
  {
   "cell_type": "code",
   "execution_count": null,
   "metadata": {},
   "outputs": [],
   "source": [
    "import numpy as np\n",
    "\n",
    "# create grid\n",
    "xx, yy = np.mgrid[0:IG.shape[0], 0:IG.shape[1]]\n",
    "\n",
    "# create the figure\n",
    "fig = plt.figure()\n",
    "ax = fig.gca(projection='3d')\n",
    "ax.plot_surface(xx, yy, IG ,rstride=1, cstride=1, cmap=plt.get_cmap('gray'),\n",
    "        linewidth=0)\n",
    "\n",
    "# show it\n",
    "plt.show()"
   ]
  },
  {
   "cell_type": "markdown",
   "metadata": {
    "pycharm": {
     "name": "#%% md\n"
    }
   },
   "source": [
    "Komentarz:\n",
    "- używamy biblioteki do obliczeń *numpy*,\n",
    "- tworzymy siatkę punktów o rozmiarach takich jak obraz (*shape*),\n",
    "- rysujemy wykres 3D\n"
   ]
  },
  {
   "cell_type": "markdown",
   "metadata": {},
   "source": [
    "Podczas przetwarzania i analizy obrazów przydatne bywają \"przekroje\" przez obraz, czyli wartości funkcji $L(x,y)$ w przypadku gdy $x$ lub $y$ jest ustalone.\n",
    "Wykonaj jeden wybrany przekrój w $x$ i $y$:\n",
    "- po pierwsze należy pobrać dany wiersz lub kolumnę - np. `S = IG[10,:]` (tu jedenasty wiersz),\n",
    "- po drugie stworzyć wykres złożony z dwóch subwykresów: `f, (ax1,ax2) = plt.subplots(1,2)`\n",
    "- dla każdego z nich ustawić tytuł (np. `ax1.set_title('XXX')`) oraz treść `ax1.plot(S)`,\n",
    "- na koniec całość wyświetlić `plt.show()`.\n",
    "\n",
    "\n",
    "\n",
    "\n"
   ]
  },
  {
   "cell_type": "code",
   "execution_count": null,
   "metadata": {},
   "outputs": [],
   "source": [
    "import numpy as np\n",
    "S = IG[13,:]\n",
    "f, (ax1,ax2) = plt.subplots(1,2)\n",
    "ax1.plot(S)\n",
    "ax1.set_title('14 wiersz')\n",
    "S = IG[:,13]\n",
    "ax2.plot(S)\n",
    "ax2.set_title('14 kolumna')\n",
    "plt.show()"
   ]
  },
  {
   "cell_type": "markdown",
   "metadata": {},
   "source": [
    "Obrazy indeksowane składają się z dwóch macierzy - obrazu oraz tzw. mapy kolorów. \n",
    "W macierzy obrazu zapisane są wartości poszczególnych pikseli. \n",
    "Macierz mapy kolorów ma rozmiar $m \\times 3$ ($m$ wierszy, w~każdym 3 wartości - składowe R,G,B).\n",
    "Podczas wyświetlania, na podstawie wartości piksela, odczytywany jest kolor z macierzy mapy kolorów.\n",
    "W ten sposób możliwe staje się \"pokolorowanie\" obrazu w skali szarości (stąd wcześniej szary mandryl był kolorowy).\n",
    "Wykorzystanie pseudokoloru nie wpływa na ilość informacji zawartej na obrazku, pomaga jedynie przedstawić go w bardziej czytelnej (dla człowieka) formie.\n",
    "Przykładowo można uzyskać poprawę kontrastu, co jest ważne przy analizie np. obrazów medycznych.\n",
    "Bardziej obszerny opis i spis dostępnym map można znaleźć w [dokumentacji.](https://matplotlib.org/3.1.0/tutorials/colors/colormaps.html)\n",
    "\n",
    "Wykorzystując dokumentację oraz polecenie `plt.imshow(IG, cmap=plt.get_cmap('XXX'))` proszę wyświetlić obraz madryl w 4 różnych mapach kolorów.\n"
   ]
  },
  {
   "cell_type": "code",
   "execution_count": null,
   "metadata": {},
   "outputs": [],
   "source": [
    "\n",
    "plt.imshow(IG, cmap=plt.get_cmap('hot'))\n",
    "plt.xticks([]), plt.yticks([])\n",
    "plt.show()\n",
    "plt.imshow(IG, cmap=plt.get_cmap('nipy_spectral'))\n",
    "plt.xticks([]), plt.yticks([])\n",
    "plt.show()\n",
    "plt.imshow(IG, cmap=plt.get_cmap('gist_ncar'))\n",
    "plt.xticks([]), plt.yticks([])\n",
    "plt.show()\n",
    "plt.imshow(IG, cmap=plt.get_cmap('Paired'))\n",
    "plt.xticks([]), plt.yticks([])\n",
    "plt.show()"
   ]
  },
  {
   "cell_type": "code",
   "execution_count": null,
   "metadata": {},
   "outputs": [],
   "source": []
  }
 ],
 "metadata": {
  "kernelspec": {
   "display_name": "Python 3",
   "language": "python",
   "name": "python3"
  },
  "language_info": {
   "codemirror_mode": {
    "name": "ipython",
    "version": 3
   },
   "file_extension": ".py",
   "mimetype": "text/x-python",
   "name": "python",
   "nbconvert_exporter": "python",
   "pygments_lexer": "ipython3",
   "version": "3.8.8"
  }
 },
 "nbformat": 4,
 "nbformat_minor": 4
}
