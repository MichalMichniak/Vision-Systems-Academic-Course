{
 "cells": [
  {
   "cell_type": "markdown",
   "metadata": {
    "collapsed": false
   },
   "source": [
    "## Zadanie domowe: BBHE i DSIHE\n",
    "\n",
    "W klasycznym wyrównywaniu histogramu HE  po wykonaniu operacji jasność obrazu ulega zmianie.\n",
    "Dało się to zaobserwować podczas przeprowadzonych eksperymentów.\n",
    "Jeśli nie to należy uruchomić skrypt z sekcji A i zwrócić na to uwagę.\n",
    "Średnia jasność dąży do środkowego poziomu szarości.\n",
    "Jest to wada i dlatego klasyczne HE ma ograniczone zastosowanie.\n",
    "\n",
    "Powstało sporo metod, które eliminują to niekorzystne zjawisko.\n",
    "Najprostsze z nich polegają na dekompozycji obrazu wejściowego na dwa podobrazy (wg. pewnego kryterium).\n",
    "Następnie operacja HE wykonywana jest dla tych podobrazów.\n",
    "\n",
    "Dwie znane z literatury metody to:\n",
    "- Bi-Histogram Equalization\n",
    "- DSIHE - Dualistic Sub-Image Histogram Equalization\n",
    "\n",
    "W metodzie BBHE za kryterium podziału przyjmuje się średnią jasność w obrazie.\n",
    "W DSIHE obraz dzieli się na dwa podobrazy o takiej samej liczbie pikseli (jaśniejszych i ciemniejszych).\n",
    "\n",
    "W ramach zadania należy zaimplementować wybraną metodę: BBHE lub DSIHE (ew. obie).\n",
    "\n",
    "1. Wczytaj obraz *jet.bmp* i wylicz jego histogram.\n",
    "2. W kolejnym kroku należy wyznaczyć próg podziału obrazu na dwa podobrazy (*lm*).\n",
    "3. Dla BBHE wyznacz średnią jasność obrazu. Dla DSIHE można wykorzystać histogram skumulowany.\n",
    "Należy znaleźć poziom jasności który znajduje się \"w połowie\" histogramu skumulowanego.\n",
    "W tym celu warto stworzyć tablicę, zawierającą moduł histogramu skumulowanego pomniejszonego o połowę liczby pikseli.\n",
    "Następnie znaleźć minimum.\n",
    "4. Dalej należy podzielić histogram oryginalnego obrazu na dwa histogramy *H1* i *H2*.\n",
    "Dla każdego z nich wyliczyć histogram skumulowany ($C_1$ i $C_2$) i wykonać normalizację.\n",
    "Normalizacja polega na podzieleniu każdego histogramu przez jego największy element.\n",
    "5. Na podstawie histogramów skumulowanych należy stworzyć przekształcenie LUT.\n",
    "Należy tak przeskalować $C_1$ i $C_2$, aby uzyskać jednorodne przekształcenie.\n",
    "Tablicę $C_1$ wystarczy pomnożyć przez próg podziału.\n",
    "Tablicę $C_2$ należy przeskalować do przedziału: $<lm+1; 255>$, gdzie $lm$ jest progiem podziału.<br>\n",
    "$C_{1n} = (lm)*C1;$<br>\n",
    "$C_{2n} = lm+1 + (255-lm-1)*C2;$<br>\n",
    "Następnie dwie części tablicy przekodowań należy połączyć.\n",
    "6. Ostatecznie należy wykonać operację LUT i wyświetlić wynik wyrównywania histogramu.\n",
    "Porównaj wynik operacji BBHE lub DSIHE z klasycznym HE."
   ]
  },
  {
   "cell_type": "code",
   "execution_count": null,
   "metadata": {
    "collapsed": false,
    "pycharm": {
     "name": "#%% Zadanie domowe - BBHE\n"
    }
   },
   "outputs": [],
   "source": [
    "import cv2\n",
    "import os\n",
    "from matplotlib import pyplot as plt\n",
    "import numpy as np\n",
    "def BBHE(img):\n",
    "    img_hist = cv2.calcHist([img],[0], None, [256] ,[0,255])\n",
    "    mean_brightness = img.mean().astype('uint8')\n",
    "    H1 = img_hist[:mean_brightness]\n",
    "    H2 = img_hist[mean_brightness:]\n",
    "    C1 = H1.cumsum()\n",
    "    C2 = H2.cumsum()\n",
    "    C1_norm = C1.astype('float32')/float(np.max(C1))\n",
    "    C2_norm = C2.astype('float32')/float(np.max(C2))\n",
    "    C1 = (C1_norm * mean_brightness).astype('uint8')\n",
    "    C2 = (C2_norm * (255 - mean_brightness)).astype('uint8') + mean_brightness\n",
    "    lUT = np.array(list(C1) + list(C2))\n",
    "    return cv2.LUT(img, lUT)\n",
    "\n",
    "if not os.path.exists(\"jet.bmp\") :\n",
    "    !wget https://raw.githubusercontent.com/vision-agh/poc_sw/master/03_Histogram/jet.bmp --no-check-certificate\n",
    "jet = cv2.imread('jet.bmp', cv2.IMREAD_GRAYSCALE)\n",
    "jet_BBHE = BBHE(jet)\n",
    "plt.imshow(jet)\n",
    "plt.title(\"orginal image\")\n",
    "plt.xticks([])\n",
    "plt.yticks([])\n",
    "plt.gray()\n",
    "plt.show()\n",
    "fig, ax = plt.subplots(1,3)\n",
    "fig.set_size_inches([18,6])\n",
    "ax[0].imshow(jet_BBHE)\n",
    "ax[1].plot(cv2.calcHist([jet_BBHE],[0], None, [256] ,[0,255]))\n",
    "ax[2].plot(cv2.calcHist([jet_BBHE],[0], None, [256] ,[0,255]).cumsum())\n",
    "ax[0].set_xticks([])\n",
    "ax[0].set_yticks([])\n",
    "ax[0].set_title(\"BBHE jet.bmp\")\n",
    "ax[1].set_title(\"histogram\")\n",
    "ax[2].set_title(\"empiric dystrybuant\")\n",
    "plt.show()\n",
    "\n",
    "jet_HE = cv2.equalizeHist(jet)\n",
    "fig, ax = plt.subplots(1,3)\n",
    "fig.set_size_inches([18,6])\n",
    "ax[0].imshow(jet_HE)\n",
    "ax[1].plot(cv2.calcHist([jet_HE],[0], None, [256] ,[0,255]))\n",
    "ax[2].plot(cv2.calcHist([jet_HE],[0], None, [256] ,[0,255]).cumsum())\n",
    "ax[0].set_xticks([])\n",
    "ax[0].set_yticks([])\n",
    "ax[0].set_title(\"HE jet.bmp\")\n",
    "ax[1].set_title(\"histogram\")\n",
    "ax[2].set_title(\"empiric dystrybuant\")\n",
    "plt.show()\n"
   ]
  },
  {
   "cell_type": "code",
   "execution_count": null,
   "metadata": {
    "collapsed": false,
    "pycharm": {
     "name": "#%% Zadanie domowe - DSIHE\n"
    }
   },
   "outputs": [],
   "source": []
  }
 ],
 "metadata": {
  "kernelspec": {
   "display_name": "Python 3",
   "language": "python",
   "name": "python3"
  },
  "language_info": {
   "codemirror_mode": {
    "name": "ipython",
    "version": 3
   },
   "file_extension": ".py",
   "mimetype": "text/x-python",
   "name": "python",
   "nbconvert_exporter": "python",
   "pygments_lexer": "ipython3",
   "version": "3.8.8"
  }
 },
 "nbformat": 4,
 "nbformat_minor": 0
}
