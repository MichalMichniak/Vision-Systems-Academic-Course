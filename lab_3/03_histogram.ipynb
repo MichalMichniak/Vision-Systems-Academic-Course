{
 "cells": [
  {
   "cell_type": "markdown",
   "metadata": {
    "pycharm": {
     "name": "#%% md\n"
    }
   },
   "source": [
    "# Histogram obrazu. Wyrównywanie histogramu."
   ]
  },
  {
   "cell_type": "markdown",
   "metadata": {
    "collapsed": false,
    "pycharm": {
     "name": "#%% md\n"
    }
   },
   "source": [
    "## Cel ćwiczenia\n",
    "\n",
    "- Zapoznanie z pojęciem histogramu obrazu (w odcieniach szarości i kolorze).\n",
    "- Zapoznanie z metodami modyfikacji histogramu (rozciąganie, wyrównywanie, dopasowywanie)."
   ]
  },
  {
   "cell_type": "markdown",
   "metadata": {
    "collapsed": false,
    "pycharm": {
     "name": "#%% md\n"
    }
   },
   "source": [
    "## Histogram\n",
    "\n",
    "- Histogramem obrazu nazywamy wykres słupkowy zdefiniowany następującymi zależnościami:<br>\n",
    "\\begin{equation}\n",
    "h(i) = \\sum_{x=0}^{N-1} \\sum_{y=0}^{M-1} p(i,(x,y))\n",
    "\\end{equation}<br>\n",
    "gdzie:<br>\n",
    "\\begin{equation}\n",
    "p(i) =  \\left\\{\n",
    "  \\begin{array}{l l}\n",
    "    1 & \\quad \\text{gdy} f(x,y) = i\\\\\n",
    "    0 & \\quad \\text{gdy} f(x,y) \\ne i\n",
    "  \\end{array} \\right.\n",
    "\\end{equation}\n",
    "\n",
    "- Inaczej mówiąc, histogram zawiera informacje na temat tego ile pikseli o danym poziomie jasności występuje na obrazie (w przypadku obrazu w odcieniach szarości). Określa się to także rozkładem empirycznym cechy.\n",
    "\n",
    "- Często wykorzystuje się tzw. znormalizowaną postać histogramu  – wszystkie wartości $h(i)$ są dzielone przez liczbę pikseli na obrazie.\n",
    "Otrzymana w ten sposób wielkość to gęstość prawdopodobieństwa wystąpienia na obrazie pikseli o odcieniu $i$.\n",
    "\n",
    "- Histogram można zdefiniować również dla obrazów kolorowych.\n",
    "Otrzymujemy wtedy 3 histogramy – po jednym dla danej składowej: R,G,B (lub HSV, YCbCr, itp.) lub histogram trójwymiarowy.\n",
    "\n",
    "- Histogram jest bardzo użyteczny w przetwarzaniu i analizie obrazów.\n",
    "Wykorzystywany jest przy binaryzacji (szerzej na jednym z kolejnych laboratoriów) oraz do oceny jakości (dynamiki, kontrastu) obrazu.\n",
    "W idealnym przypadku wszystkie poziomy jasności w obrazie powinny być wykorzystane (i to najlepiej w miarę jednolicie)  – obrazowo mówiąc histogram powinien rozciągać się od 0  – 255 (obraz w skali szarości).\n",
    "\n",
    "- W przypadku gdy  wykorzystujemy jedynie fragment dostępnego zakresu (wąski histogram)  lub histogram nie jest jednolity (występują dominujące grupy pikseli) obraz ma dość słaby kontrast.\n",
    "Cechę tę można poprawić stosując tzw. rozciąganie albo wyrównywanie histogramu (ang. *histogram equalization*).</div>"
   ]
  },
  {
   "cell_type": "markdown",
   "metadata": {
    "collapsed": false,
    "pycharm": {
     "name": "#%% md\n"
    }
   },
   "source": [
    "## Histogram dla obrazów w odcieniach szarości\n",
    "\n",
    "1. Zaimportuj potrzebne biblioteki: *OpenCV*, *pyplot* z *matplotlib* i *numpy*.\n",
    "        import cv2\n",
    "        from matplotlib import pyplot as plt\n",
    "        import numpy as np\n",
    "2. Wczytaj obrazy *lenaX.bmp* w skali szarości. *X* jest numerem wczytywanego obrazu (1 - 4).\n",
    "        I = cv2.imread('lenaX.bmp', cv2.IMREAD_GRAYSCALE)\n",
    "3. Oblicz histogram wczytanego obrazu wykorzystując funkcję `cv2.calcHist`.\n",
    "    - Pierwszym argumentem jest obraz, dla którego obliczony zostanie histogram.\n",
    "    Należy go przekazać w nawiasie kwadratowym.\n",
    "    - Drugim argumentem jest numer kanału, dla którego ma zostać obliczony histogram.\n",
    "    Również powinien być przekazany w nawiasie kwadratowym.\n",
    "    - Trzeci argument oznacza maskę, czyli obszar, dla którego ma zostać wyznaczony histogram.\n",
    "    Aby obliczyć dla całego obrazu należy przekazać *None*.\n",
    "    - Czwartym argumentem jest rozmiar histogramu (liczba przedziałów).\n",
    "    Argument powinien być w nawiasie kwadratowym. Dla pełnej skali należy przekazać wartość *256*.\n",
    "    - Ostatnim argumentem jest zakres wartości. Dla obrazów typu *uint8* powinien on wynosić *[0, 256]*.\n",
    "    - Funkcja zwraca obliczony histogram.\n",
    "4. Wyświetl wczytane obrazy i ich histogramy w jednym oknie. Użyj `plt.subplot()` w celu stworzenia siatki wykresów.\n",
    "        figLena, axsLena = plt.subplots(2, 4)\n",
    "Rozmiar utworzonego okna można zmienić wykorzystując instrukcję (uwaga w calach -  1 cal to 2.54cm):\n",
    "        figLena.set_size_inches(20, 10)\n",
    "Przykładowe wyświetlenie obrazu:\n",
    "        axsLena[0, 0].imshow(I1, 'gray', vmin=0, vmax=256)\n",
    "        axsLena[0, 0].axis('off')\n",
    "Przykładowe wyświetlenie histogramu:\n",
    "        axsLena[1, 0].plot(H1)\n",
    "        axsLena[1, 0].grid()\n",
    "5. Przeanalizuj (dokładnie) związek histogramu z jasnością i ostrością obrazu (tu rozumianą jako subiektywne odczucie)."
   ]
  },
  {
   "cell_type": "code",
   "execution_count": null,
   "metadata": {
    "pycharm": {
     "name": "#%% Zadanie 1 - wyświetlanie\n"
    }
   },
   "outputs": [],
   "source": [
    "import cv2\n",
    "import os\n",
    "from matplotlib import pyplot as plt\n",
    "import numpy as np\n",
    "\n",
    "if not os.path.exists(\"lena1.bmp\") :\n",
    "    !wget https://raw.githubusercontent.com/vision-agh/poc_sw/master/03_Histogram/lena1.bmp --no-check-certificate\n",
    "\n",
    "if not os.path.exists(\"lena2.bmp\") :\n",
    "    !wget https://raw.githubusercontent.com/vision-agh/poc_sw/master/03_Histogram/lena2.bmp --no-check-certificate\n",
    "\n",
    "if not os.path.exists(\"lena3.bmp\") :\n",
    "    !wget https://raw.githubusercontent.com/vision-agh/poc_sw/master/03_Histogram/lena3.bmp --no-check-certificate\n",
    "\n",
    "if not os.path.exists(\"lena4.bmp\") :\n",
    "    !wget https://raw.githubusercontent.com/vision-agh/poc_sw/master/03_Histogram/lena4.bmp --no-check-certificate\n",
    "img = [cv2.imread(f'lena{i}.bmp', cv2.IMREAD_GRAYSCALE) for i in range(1,5)]\n",
    "plt.gray()\n",
    "fig, ax = plt.subplots(2,4)\n",
    "fig.set_size_inches(18.5, 10.5)\n",
    "for n,j in enumerate(img):\n",
    "    ax[n//2][2*(n%2)].imshow(j)\n",
    "    ax[n//2][2*(n%2)].set_xticks([])\n",
    "    ax[n//2][2*(n%2)].set_yticks([])\n",
    "    ax[n//2][2*(n%2)].set_title(f\"lena{n+1}.bmp\")\n",
    "    ax[n//2][2*(n%2) + 1].plot(cv2.calcHist([j],[0], None, [256] ,[0,255]))\n",
    "    ax[n//2][2*(n%2) + 1].set_title(f\"lena{n+1}.bmp histogram\")\n",
    "plt.show()\n"
   ]
  },
  {
   "cell_type": "markdown",
   "metadata": {
    "collapsed": false,
    "pycharm": {
     "name": "#%% md\n"
    }
   },
   "source": [
    "## Rozciąganie histogramu\n",
    "\n",
    "Najprostszą metodą poprawienia jakości obrazu jest tzw. rozciągnięcie histogramu.\n",
    "Polega na przeskalowaniu wartości pikseli w obrazie tak, aby wykorzystać cały dostępny zakres [0-255] (oczywiście w przypadku obrazów w odcieniach szarości w reprezentacji 8-bitowej).\n",
    "\n",
    "1. Wczytaj obraz *hist1.bmp* w skali szarości.\n",
    "Oblicz i wyświetl histogram rozpatrywanego obrazu (na wspólnym rysunku z obrazem).\n",
    "Zwróć uwagę na ilość widocznych szczegółów.\n",
    "2. Rozciągnij histogram obrazu. W tym celu można wykorzystać funkcję `cv2.normalize`.\n",
    "    - Pierwszym argumentem funkcji jest obraz poddawany operacji.\n",
    "    - Drugim argumentem jest tablica do której zostanie wpisany wynik.\n",
    "    Należy ją najpierw zainicjalizować.\n",
    "    Najlepiej zrobić to funkcją `np.zeros`, której pierwszym argumentem jest rozmiar obrazu (`I.shape`), a drugim typ danych (`uint8`).\n",
    "    Można również przekazać `None`, a wynik przypisać do nowej zmiennej.\n",
    "    - Trzecim argumentem jest minimalna wartość po normalizacji.\n",
    "    - Czwartym argumentem jest wartość maksymalna po normalizacji.\n",
    "    - Ostatnim argumentem jest typ wykorzystanej normy (uogólnienie pojęcia długości wektora).\n",
    "    Należy wykorzystać normę `cv2.NORM_MINMAX`.\n",
    "3. Rezultat operacji wyświetl (obraz i jego histogram).\n",
    "4. Czy ilość \"widocznych\" szczegółów uległa zmianie?"
   ]
  },
  {
   "cell_type": "code",
   "execution_count": null,
   "metadata": {
    "collapsed": false,
    "pycharm": {
     "name": "#%% Zadanie 2 - rozciąganie\n"
    }
   },
   "outputs": [],
   "source": [
    "if not os.path.exists(\"hist1.bmp\") :\n",
    "    !wget https://raw.githubusercontent.com/vision-agh/poc_sw/master/03_Histogram/hist1.bmp --no-check-certificate\n",
    "\n",
    "if not os.path.exists(\"hist2.bmp\") :\n",
    "    !wget https://raw.githubusercontent.com/vision-agh/poc_sw/master/03_Histogram/hist2.bmp --no-check-certificate\n",
    "\n",
    "if not os.path.exists(\"hist3.bmp\") :\n",
    "    !wget https://raw.githubusercontent.com/vision-agh/poc_sw/master/03_Histogram/hist3.bmp --no-check-certificate\n",
    "\n",
    "if not os.path.exists(\"hist4.bmp\") :\n",
    "    !wget https://raw.githubusercontent.com/vision-agh/poc_sw/master/03_Histogram/hist4.bmp --no-check-certificate\n",
    "#img = [cv2.imread(f'hist{i}.bmp', cv2.IMREAD_GRAYSCALE) for i in range(2,5)]\n",
    "hist1 = cv2.imread('hist1.bmp', cv2.IMREAD_GRAYSCALE)\n",
    "fig, ax = plt.subplots(1,2)\n",
    "fig.set_size_inches(12,6)\n",
    "ax[0].imshow(hist1)\n",
    "ax[0].set_xticks([])\n",
    "ax[0].set_yticks([])\n",
    "ax[0].set_title(f\"hist1.bmp\")\n",
    "ax[1].plot(cv2.calcHist([hist1],[0], None, [256] ,[0,255]))\n",
    "ax[1].set_title(f\"hist1.bmp histogram\")\n",
    "## rozciąganie\n",
    "fig, ax = plt.subplots(1,2)\n",
    "fig.set_size_inches(12,6)\n",
    "hist1_wide = np.zeros(hist1.shape,dtype= 'uint8')\n",
    "cv2.normalize(hist1,hist1_wide, 0,255,cv2.NORM_MINMAX)\n",
    "ax[0].imshow(hist1_wide)\n",
    "ax[0].set_xticks([])\n",
    "ax[0].set_yticks([])\n",
    "ax[0].set_title(f\"normalized hist1.bmp\")\n",
    "ax[1].plot(cv2.calcHist([hist1_wide],[0], None, [256] ,[0,255]))\n",
    "ax[1].set_title(f\"hist1.bmp histogram\")"
   ]
  },
  {
   "cell_type": "markdown",
   "metadata": {
    "collapsed": false,
    "pycharm": {
     "name": "#%% md\n"
    }
   },
   "source": [
    "## Wyrównywanie histogramu\n",
    "\n",
    "<div style=\"text-align: justify\">\n",
    "Bardziej zaawansowaną metodą jest tzw. wyrównywanie histogramu (ang. *histogram equalization – HE*).\n",
    "Idea jest następująca: z punktu widzenia lepszego wykorzystania dostępnych poziomów jasności pożądane jest rozciągnięcie \"szczytów\" histogramu, a~skompresowanie \"dolin\" tak, aby taka sama liczba pikseli reprezentowana była przez każdy z dostępnych poziomów jasności (a przynjamniej przybliżona).\n",
    "Warto zwrócić uwagę, że takie przekształcenie powoduje częściową utratę informacji o szczegółach w obszarach \"dolin\".\n",
    "Inaczej mówiąc, dążymy do sytuacji, aby histogram był względnie jednostajny.\n",
    "Operacją, która pozwala wykonać wyrównywanie histogramu, jest przekształcenie LUT z funkcją przejścia w postaci histogramu skumulowanego danego obrazu.</div><br>\n",
    "\n",
    "<div style=\"text-align: justify\">\n",
    "Histogram skumulowany to funkcja obliczona na podstawie histogramu.\n",
    "Jej pierwszy element to liczba pikseli o odcieniu $0$.\n",
    "Kolejne wartości to liczba pikseli o odcieniach od $0$ do $n$.</div>\n",
    "\n",
    "\\begin{equation}\n",
    "C(n) = \\sum_{i=0}^{n} h(i)\n",
    "\\end{equation}\n",
    "\n",
    "<div style=\"text-align: justify\">\n",
    "Jeżeli histogram jest w postaci znormalizowanej (gęstość rozkładu prawdopodobieństwa) to histogram skumulowany stanowi dystrybuantę rozkładu prawdopodobieństwa.</div><br>\n",
    "\n",
    "1. Wyznacz histogram skumulowany dla obrazu *hist1.bmp*.\n",
    "W tym celu wykorzystaj metodę `cumsum` dla histogramu wczytanego obrazu.\n",
    "Nie przyjmuje ona żadnych argumentów, a zwraca skumulowane wartości tablicy, dla której została użyta.\n",
    "Histogram należy wyliczyć dla **obrazka wejściowego**, a nie dla wyniku rozciągania.\n",
    "2. Histogram skumulowany wyświetl razem z histogramem zwykłym na jednym wykresie (nie obok siebie).\n",
    "Na potrzeby wyświetlenia przeskaluj histogram skumulowany tak, by miał taką samą wartość maksymalną jak zwykły histogram.\n",
    "W tym celu wykorzystaj metodę `max`.\n",
    "3. Wyświetlenie kilku linii na jednym wykresie może być zrealizowane w następujący sposób:\n",
    "        figHistCum, axsHistCum = plt.subplots()\n",
    "\n",
    "        axsHistCum.plot(HHist)\n",
    "        axsHistCum.plot(CHistNorm)\n",
    "        axsHistCum.grid()\n",
    "4. Teraz zaimplementuj klasyczny algorytm wyrównywania histogramu.\n",
    "Wykorzystać należy obliczony histogram skumulowany.\n",
    "Należy go przeskalować w taki sposób aby na jego podstawie zrealizować przekształcenie LUT, czyli do zakresu 0 - 255.\n",
    "\n",
    ">Uwaga. Opisany algorytm wyrównywania histogramu jest wersją uproszczoną.\n",
    ">W wersji pełnej należy podczas skalowania tablicy przekodowań LUT pominąć elementy równe *0*.\n",
    ">\n",
    ">W tym celu należy wykorzystać funkcje `np.ma.masked_equal` i `np.ma.filled`.\n",
    ">Pierwsza służy do ukrywania elementów tablicy, natomiast druga zamienia ukryte elementy na podaną wartość.\n",
    ">W tym przypadku elementem ukrywanym i wpisywaną wartością byłoby *0*.\n",
    "\n",
    "5. Na kolejnym rysunku wyświetl obrazek po przekształceniu, jego histogram oraz histogram skumulowany.\n",
    "Co szczególnego można powiedzieć o jego histogramie i histogramie skumulowanym?\n",
    "6. W bibliotece *OpenCV* dostępna jest funkcja wykonująca wyrównywanie histogramu `cv2.equalizeHist`.\n",
    "Jej argumentem jest obraz, którego histogram zostanie wyrównany. Zwraca natomiast obraz wynikowy.\n",
    "Na kolejnym rysunku wyświetl wynik funkcji, jego histogram oraz histogram skumulowany.\n",
    "7. W wykorzystywanej bibliotece zaimplementowana jest również metoda adaptacyjnego wyrównywania histogramu algorytmem CLAHE (ang. *Contrast Limited Adaptive Histogram Equalization*}.\n",
    "   Kilka słów wyjaśnienia.\n",
    "   Wadą poznanej metody HE jest jej \"globalność\" rozumiana jako nieuwzględnianie lokalnych właściwości obrazu.\n",
    "   Dlatego też powstała metoda adaptacyjnego wyrównywania histogramu (AHE).\n",
    "   Jest ona spotykana w dwóch wariantach:\n",
    "   - dla każdego piksela niezależnie, w pewnym jego otoczeniu, wyznaczany jest histogram i przeprowadzane wyrównywanie.\n",
    "     Jak nietrudno się domyślić rozwiązanie jest dość kosztowne obliczeniowo.\n",
    "   - obraz wejściowy dzielony jest na nienachodzące na siebie prostokątne okna.\n",
    "     W każdym z okien obliczany jest histogram i przeprowadzane jest wyrównywanie.\n",
    "     W celu eliminacji błędów na granicy okien, stosuje się interpolację.\n",
    "\n",
    "   Metoda AHE ma jednak tą wadę, że w obszarach jednorodnych wzmacnia szum.\n",
    "   Dlatego też zaproponowano rozwiązanie CLAHE, które zakłada ograniczenie kontrastu (CL).\n",
    "   W metodzie definiuje się maksymalną wartość danego przedziału histogramu (próg ograniczenia kontrastu).\n",
    "   Piksele, które przekraczają próg są następnie równomiernie rozdzielane pomiędzy poszczególne przedziały.\n",
    "   Bardziej szczegółowy opis obu metod dostępny jest na [Wikipedii](https://en.wikipedia.org/wiki/Adaptive_histogram_equalization).\n",
    "\n",
    "8.W celu użycia algorytmu należy wywołać funkcję `cv2.createCLAHE`.\n",
    "    - Pierwszym parametrem jest próg ograniczenia kontrastu.\n",
    "    - Drugi parametr definiuje na ile prostokątów zostanie podzielony obraz w rzęch i kolumnach.\n",
    "    - Zwracany jest zainicjalizowany *smart pointer* do klasy `cv::CLAHE`.\n",
    "9. Aby wykonać wyrównywanie należy użyć metody `apply`.\n",
    "Jej argumentem jest obraz wejściowy. Zwracany jest obraz o zmodyfikowanym histogramie.\n",
    "10. Przetestuj różne parametry algorytmu CLAHE.\n",
    "11. W kolejnym etapie należy przetestować operacje (rozciąganie, wyrównywanie (HE) i adaptacyjne wyrównywanie CLAHE)  na histogramie dla obrazów rzeczywistych. *hist2.bmp*, *hist3.bmp*, *hist4.jpg*.\n",
    "W jednym oknie wyświetl: obraz oryginalny, rozciąganie, wyrównywanie HE oraz wyrównywanie CLAHE."
   ]
  },
  {
   "cell_type": "code",
   "execution_count": null,
   "metadata": {
    "collapsed": false,
    "pycharm": {
     "name": "#%% Zadanie 3 - histogram skumulowany\n"
    }
   },
   "outputs": [],
   "source": [
    "hist_dystr=cv2.calcHist([hist1],[0], None, [256] ,[0,256]).cumsum()#np.linspace(0,255,len(hist_dystr))\n",
    "plt.plot(hist_dystr*max(cv2.calcHist([hist1],[0], None, [256] ,[0,255]))/max(hist_dystr) )\n",
    "plt.plot(cv2.calcHist([hist1],[0], None, [256] ,[0,255]))\n",
    "plt.show()"
   ]
  },
  {
   "cell_type": "code",
   "execution_count": null,
   "metadata": {
    "collapsed": false,
    "pycharm": {
     "name": "#%% Zadanie 3 - wyrównywanie\n"
    }
   },
   "outputs": [],
   "source": [
    "def hist_eqa(hist_dystr : np.array):\n",
    "    i = 0\n",
    "    while hist_dystr[i]==0:\n",
    "        i+=1\n",
    "    first_non_zero = hist_dystr[i]\n",
    "    lUT = np.array([(255)*(hist_dystr[j] - first_non_zero)/(1-first_non_zero) for j in range(0,256)],dtype = 'uint8')\n",
    "    return lUT\n",
    "\n",
    "img_2 = cv2.LUT(hist1, hist_eqa(hist_dystr/max(hist_dystr)))\n",
    "hist_2 = cv2.calcHist([img_2],[0], None, [256] ,[0,256])\n",
    "hist_dystr_2=hist_2.cumsum()\n",
    "\n",
    "fig, ax = plt.subplots(1,3)\n",
    "fig.set_size_inches(16,6)\n",
    "\n",
    "cv2.normalize(hist1,hist1_wide, 0,255,cv2.NORM_MINMAX)\n",
    "ax[0].imshow(img_2)\n",
    "ax[0].set_xticks([])\n",
    "ax[0].set_yticks([])\n",
    "ax[0].set_title(f\"hist1.bmp\")\n",
    "ax[1].plot(hist_2)\n",
    "ax[1].set_title(f\"hist1.bmp histogram\")\n",
    "ax[2].plot(hist_dystr_2)\n",
    "ax[2].set_title(f\"hist1.bmp histogram cumsum\")"
   ]
  },
  {
   "cell_type": "code",
   "execution_count": null,
   "metadata": {
    "collapsed": false,
    "pycharm": {
     "name": "#%% Zadanie 3 - wyrównywanie OpenCV\n"
    }
   },
   "outputs": [],
   "source": [
    "fig, ax = plt.subplots(1,3)\n",
    "fig.set_size_inches(16,6)\n",
    "img_3 = cv2.equalizeHist(hist1)\n",
    "ax[0].imshow(img_3)\n",
    "ax[0].set_xticks([])\n",
    "ax[0].set_yticks([])\n",
    "ax[0].set_title(f\"hist1.bmp\")\n",
    "ax[1].plot(cv2.calcHist([img_2],[0], None, [256] ,[0,256]))\n",
    "ax[1].set_title(f\"hist1.bmp histogram\")\n",
    "ax[2].plot(cv2.calcHist([img_2],[0], None, [256] ,[0,256]).cumsum())\n",
    "ax[2].set_title(f\"hist1.bmp histogram cumsum\")"
   ]
  },
  {
   "cell_type": "code",
   "execution_count": null,
   "metadata": {
    "collapsed": false,
    "pycharm": {
     "name": "#%% Zadanie 3 - CLAHE\n"
    }
   },
   "outputs": [],
   "source": [
    "clah = cv2.createCLAHE()\n",
    "fig, ax  = plt.subplots(1,3)\n",
    "fig.set_size_inches(16,6)\n",
    "ax[0].imshow(clah.apply(hist1))\n",
    "ax[0].set_xticks([])\n",
    "ax[0].set_yticks([])\n",
    "ax[0].set_title(\"CLAHE image\")\n",
    "ax[1].set_title(\"histogram\")\n",
    "ax[2].set_title(\"empiric dystrybuant\")\n",
    "ax[1].plot(cv2.calcHist([clah.apply(hist1)],[0], None, [256] ,[0,256]))\n",
    "ax[2].plot(cv2.calcHist([clah.apply(hist1)],[0], None, [256] ,[0,256]).cumsum())\n",
    "plt.show()\n",
    "\n",
    "clah = cv2.createCLAHE(clipLimit=4.0,tileGridSize=(10,8))\n",
    "fig, ax  = plt.subplots(1,3)\n",
    "fig.set_size_inches(16,6)\n",
    "ax[0].imshow(clah.apply(hist1))\n",
    "ax[0].set_xticks([])\n",
    "ax[0].set_yticks([])\n",
    "ax[0].set_title(\"CLAHE image\")\n",
    "ax[1].set_title(\"histogram\")\n",
    "ax[2].set_title(\"empiric dystrybuant\")\n",
    "ax[1].plot(cv2.calcHist([clah.apply(hist1)],[0], None, [256] ,[0,256]))\n",
    "ax[2].plot(cv2.calcHist([clah.apply(hist1)],[0], None, [256] ,[0,256]).cumsum())\n",
    "plt.show()"
   ]
  },
  {
   "cell_type": "code",
   "execution_count": null,
   "metadata": {},
   "outputs": [],
   "source": [
    "def clahe(hist1, clp, tileGsize,title):\n",
    "    clah = cv2.createCLAHE(clipLimit=clp,tileGridSize=tileGsize)\n",
    "    fig, ax  = plt.subplots(1,3)\n",
    "    fig.set_size_inches(16,6)\n",
    "    ax[0].imshow(clah.apply(hist1))\n",
    "    ax[0].set_xticks([])\n",
    "    ax[0].set_yticks([])\n",
    "    ax[0].set_title(title)\n",
    "    ax[1].set_title(\"histogram\")\n",
    "    ax[2].set_title(\"empiric dystrybuant\")\n",
    "    ax[1].plot(cv2.calcHist([clah.apply(hist1)],[0], None, [256] ,[0,256]))\n",
    "    ax[2].plot(cv2.calcHist([clah.apply(hist1)],[0], None, [256] ,[0,256]).cumsum())\n",
    "    plt.show()\n",
    "img = [cv2.imread(f'hist{i}.bmp', cv2.IMREAD_GRAYSCALE) for i in range(2,5)]\n",
    "for i in img:\n",
    "    fig, ax  = plt.subplots(1,3)\n",
    "    fig.set_size_inches(16,6)\n",
    "    ax[0].imshow(i)\n",
    "    ax[0].set_xticks([])\n",
    "    ax[0].set_yticks([])\n",
    "    ax[0].set_title(\"orginal image\")\n",
    "    ax[1].set_title(\"histogram\")\n",
    "    ax[2].set_title(\"empiric dystrybuant\")\n",
    "    ax[1].plot(cv2.calcHist([i],[0], None, [256] ,[0,256]))\n",
    "    ax[2].plot(cv2.calcHist([i],[0], None, [256] ,[0,256]).cumsum())\n",
    "    plt.show()\n",
    "    for j in [[8,(4,4)],[20,(8,8)]]:\n",
    "        clahe(i,j[0],j[1], f\"Clahe : clipLimit={j[0]} \\n tileGridSize={j[1]}\")\n"
   ]
  },
  {
   "cell_type": "markdown",
   "metadata": {
    "collapsed": false,
    "pycharm": {
     "name": "#%% md\n"
    }
   },
   "source": [
    "## Histogram dla obrazów kolorowych i jego wyrównywanie\n",
    "\n",
    "1. Wczytaj obraz *lenaRGB.bmp*.\n",
    "2. Wykonaj konwersję przestrzeni barw z BGR do RGB.\n",
    "3. Wyświetl wczytany obraz oraz histogram dla każdej składowej przestrzeni barw.\n",
    "W tym celu można użyć drugiego argumentu wykorzystywanej funkcji (numer kanału).\n",
    "4. Wykonaj wyrównywanie dla każdej składowej obrazu.\n",
    "Połącz otrzymane składowe w nowy obraz i wyświetl go.\n",
    "Jaka jest zasadnicza wada takiego podejścia?\n",
    "5. Przekształć obraz wejściowy do przestrzeni HSV (flaga `cv2.COLOR_BGR2HSV`).\n",
    "Wyświetl histogramy poszczególnych składowych.\n",
    "Manipulacji dokonujemy na składowej odpowiadającej za jasność, czyli V.\n",
    "Wykonaj wyrównywanie histogramu dla tej składowej.\n",
    "Dokonaj podmiany składowej V i wyświetl rezultat operacji.\n",
    "Uprzednio przeprowadź konwersję HSV->RGB (flaga `cv2.COLOR_HSV2RGB`).\n",
    "6. Wykonaj te same operacje dla obrazu *jezioro.jpg*."
   ]
  },
  {
   "cell_type": "code",
   "execution_count": null,
   "metadata": {
    "collapsed": false,
    "pycharm": {
     "name": "#%% Zadanie 4 - histogram\n"
    }
   },
   "outputs": [],
   "source": [
    "if not os.path.exists(\"lenaRGB.bmp\") :\n",
    "    !wget https://raw.githubusercontent.com/vision-agh/poc_sw/master/03_Histogram/lenaRGB.bmp --no-check-certificate\n",
    "\n",
    "if not os.path.exists(\"jezioro.jpg\") :\n",
    "    !wget https://raw.githubusercontent.com/vision-agh/poc_sw/master/03_Histogram/jezioro.jpg --no-check-certificate\n",
    "lenabgr = cv2.imread('lenaRGB.bmp')\n",
    "lenaRGB = cv2.cvtColor(lenabgr, cv2.COLOR_BGR2RGB)\n",
    "lenaHSV = cv2.cvtColor(lenaRGB, cv2.COLOR_RGB2HSV)\n",
    "\n",
    "jeziorobgr = cv2.imread('jezioro.jpg').astype('uint8')\n",
    "jezioroRGB = cv2.cvtColor(jeziorobgr, cv2.COLOR_BGR2RGB).astype('uint8')\n",
    "jezioroHSV = cv2.cvtColor(jezioroRGB, cv2.COLOR_RGB2HSV).astype('uint8')\n",
    "\n",
    "plt.imshow(lenaRGB)\n",
    "plt.xticks([])\n",
    "plt.yticks([])\n",
    "plt.show()\n",
    "def RGBhist(img,title):\n",
    "    fig, ax  = plt.subplots(2,2)\n",
    "    fig.set_size_inches(12,8)\n",
    "    ax[0][0].imshow(img)\n",
    "    ax[0][0].set_xticks([])\n",
    "    ax[0][0].set_yticks([])\n",
    "    ax[0][0].set_title(title)\n",
    "    ax[1][0].set_title(\"histogram Green\")\n",
    "    ax[0][1].set_title(\"histogram Red\")\n",
    "    ax[1][0].plot(cv2.calcHist([img],[1], None, [256] ,[0,256]))\n",
    "    ax[0][1].plot(cv2.calcHist([img],[0], None, [256] ,[0,256]))\n",
    "    ax[1][1].set_title(\"histogram Blue\")\n",
    "    ax[1][1].plot(cv2.calcHist([img],[2], None, [256] ,[0,256]))\n",
    "    plt.show()\n",
    "\n",
    "def equaRGB(img):\n",
    "    dystr_red, dystr_green, dystr_blue = cv2.calcHist([img],[0], None, [256] ,[0,256]),cv2.calcHist([img],[1], None, [256] ,[0,256]),cv2.calcHist([img],[2], None, [256] ,[0,256])\n",
    "    img_red , img_green, img_blue = cv2.LUT(img[:,:,0], hist_eqa(dystr_red.cumsum()/max(dystr_red.cumsum()))),cv2.LUT(img[:,:,1], hist_eqa(dystr_green.cumsum()/max(dystr_green.cumsum()))),cv2.LUT(img[:,:,2], hist_eqa(dystr_blue.cumsum()/max(dystr_blue.cumsum())))\n",
    "    img_reconstructed = np.zeros([img.shape[0],img.shape[1],3])\n",
    "    img_reconstructed[:,:,0] = img_red\n",
    "    img_reconstructed[:,:,1] = img_green\n",
    "    img_reconstructed[:,:,2] = img_blue\n",
    "    img_reconstructed = cv2.normalize(img_reconstructed,None,0,255,cv2.NORM_MINMAX).astype('uint8')\n",
    "    return img_reconstructed\n",
    "\n",
    "def equaV(img):\n",
    "    dystr_H, dystr_S, dystr_V = cv2.calcHist([img],[0], None, [256] ,[0,256]),cv2.calcHist([img],[1], None, [256] ,[0,256]),cv2.calcHist([img],[2], None, [256] ,[0,256])\n",
    "    img_H , img_S, img_V = img[:,:,0],img[:,:,1],cv2.LUT(img[:,:,2], hist_eqa(dystr_V.cumsum()/max(dystr_V.cumsum())))\n",
    "    img_reconstructed = np.zeros([img.shape[0],img.shape[1],3])\n",
    "    img_reconstructed[:,:,0] = img_H\n",
    "    img_reconstructed[:,:,1] = img_S\n",
    "    img_reconstructed[:,:,2] = img_V\n",
    "    img_reconstructed = cv2.normalize(img_reconstructed,None,0,255,cv2.NORM_MINMAX).astype('uint8')\n",
    "    img_reconstructed = cv2.cvtColor(img_reconstructed, cv2.COLOR_HSV2RGB)\n",
    "    img_reconstructed = cv2.normalize(img_reconstructed,None,0,255,cv2.NORM_MINMAX).astype('uint8')\n",
    "    return img_reconstructed\n",
    "\n",
    "\n",
    "RGBhist(lenaRGB,\"orginal image\")\n",
    "RGBhist(equaRGB(lenaRGB),\"obraz wyrównowarzony\")\n",
    "RGBhist(equaV(lenaHSV),\"obraz wyrównowarzony względem V\")\n",
    "\n",
    "RGBhist(jezioroRGB,\"orginal image\")\n",
    "RGBhist(equaRGB(jezioroRGB),\"obraz wyrównowarzony\")\n",
    "RGBhist(equaV(jezioroHSV),\"obraz wyrównowarzony względem V\")\n"
   ]
  },
  {
   "cell_type": "code",
   "execution_count": null,
   "metadata": {
    "collapsed": false,
    "pycharm": {
     "name": "#%% Zadanie 4 - wyrównanie\n"
    }
   },
   "outputs": [],
   "source": []
  },
  {
   "cell_type": "code",
   "execution_count": null,
   "metadata": {
    "collapsed": false,
    "pycharm": {
     "name": "#%% Zadanie 4 - HSV histogram\n"
    }
   },
   "outputs": [],
   "source": []
  },
  {
   "cell_type": "code",
   "execution_count": null,
   "metadata": {
    "collapsed": false,
    "pycharm": {
     "name": "#%% Zadanie 4 - HSV wyrównanie\n"
    }
   },
   "outputs": [],
   "source": [
    "\n"
   ]
  }
 ],
 "metadata": {
  "kernelspec": {
   "display_name": "Python 3",
   "language": "python",
   "name": "python3"
  },
  "language_info": {
   "codemirror_mode": {
    "name": "ipython",
    "version": 3
   },
   "file_extension": ".py",
   "mimetype": "text/x-python",
   "name": "python",
   "nbconvert_exporter": "python",
   "pygments_lexer": "ipython3",
   "version": "3.8.8"
  }
 },
 "nbformat": 4,
 "nbformat_minor": 4
}
