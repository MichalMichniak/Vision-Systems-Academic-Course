{
 "cells": [
  {
   "cell_type": "markdown",
   "metadata": {
    "collapsed": true,
    "pycharm": {
     "name": "#%% md\n"
    }
   },
   "source": [
    "# Filtracja Non-Local Means\n",
    "\n",
    "## Definicja\n",
    "\n",
    "Kolejny \"poziom wtajemniczenia\" w zagadnienie filtracji obrazów to metoda Non-Local Means (NLM).\n",
    "Została ona zaproponowana w pracy *\"A non-local algorithm for image denoising\"* (autorzy: Antoni Buades, Bartomeu Coll i Jean Michel Morel) na konferencji CVPR w 2005 roku.\n",
    "\n",
    "Filtr NLM dany jest zależnością:\n",
    "\n",
    "\\begin{equation}\n",
    "\\hat{I}(\\mathbf{x}) = \\sum_{\\mathbf{p} \\in V(\\mathbf{x})} w(\\mathbf{p},\\mathbf{x})I(\\mathbf{p})\n",
    "\\tag{1}\n",
    "\\end{equation}\n",
    "\n",
    "gdzie:\n",
    "- $I$ - obraz wejściowy,\n",
    "- $\\hat{I}$ - obraz wyjściowy (przefiltrowany),\n",
    "- $\\mathbf{x}$ - współrzędne piksela obrazu,\n",
    "- $V(\\mathbf{x})$ - obszar poszukiwań piksela, dla którego przeprowadzana jest filtracja,\n",
    "- $w$ - waga punktu $\\mathbf{p}$ z obszaru poszukiwań.\n",
    "\n",
    "Wróćmy na chwilę do filtracji bilateralnej. Tam waga danego piksela z kontekstu zależała od dwóch czynników - odległości przestrzennej pomiędzy pikselami oraz różnicy w jasności/kolorze pomiędzy pikselami (tzw. przeciwdziedzina).\n",
    "Filtr NLM stanowi uogólnienie tej metody - do obliczania wag nie wykorzystuje się już pojedynczych pikseli ($\\mathbf{p}$ i $\\mathbf{x}$), a lokalne konteksty ($N(\\mathbf{p})$ i $N(\\mathbf{x})$).\n",
    "\n",
    "Waga $w$ dana jest następującą zależnością:\n",
    "\n",
    "\\begin{equation}\n",
    "w(\\mathbf{p},\\mathbf{x}) = \\frac{1}{Z(\\mathbf{x})}\\exp(-\\frac{|| v(N(\\mathbf{p})) - v(N(\\mathbf{x})) ||^2_{2}}{\\alpha \\sigma^2})\n",
    "\\tag{2}\n",
    "\\end{equation}\n",
    "\n",
    "gdzie:\n",
    "\\begin{equation}\n",
    "Z(\\mathbf{x}) = \\sum_{\\mathbf{p} \\in V(\\mathbf{x})} \\exp(-\\frac{|| v(N(\\mathbf{p})) - v(N(\\mathbf{x})) ||^2_{2}}{\\alpha \\sigma^2})\n",
    "\\tag{3}\n",
    "\\end{equation}\n",
    "\n",
    "- $|| \\cdot ||$ - jest normą $L_2$ odległości pomiędzy dwoma kontekstami,\n",
    "- $v$ oznacza mnożenie punktowe kontekstu $N$ przez dwuwymiarową maskę Gaussa o odpowiadających kontekstowi wymiarach,\n",
    "- $\\alpha$ > 0 - parametr sterujący filtracją,\n",
    "- $\\sigma$ - parametr szumu stacjonarnego występującego na obrazie (w przypadku szumu niestacjonarnego, parametr $\\sigma$ musi zostać dopasowany lokalnie tj. $\\sigma = \\sigma(\\mathbf{x})$)."
   ]
  },
  {
   "cell_type": "markdown",
   "metadata": {
    "collapsed": false
   },
   "source": [
    "## Analiza działania\n",
    "\n",
    "Zastanówmy sie teraz jak działa filtra NLM. Najprościej to zrozumieć na rysunku.\n",
    "\n",
    "![Ilustracja NLM](https://raw.githubusercontent.com/vision-agh/poc_sw/master/07_Bilateral/nlm.png)\n",
    "\n",
    "1. Dla rozważanego piksela $\\mathbf{x}$ definiujemy obszar poszukiwań $V(\\mathbf{x})$. Uwaga - obszar poszukiwań ($V$) jest jednostką większą niż otocznie/kontekst ($N$).\n",
    "\n",
    "2. Następnie, dla każdego z pikseli $\\mathbf{p} \\in  V(\\mathbf{x})$ oraz samego $\\mathbf{x}$ definiujemy otocznie/kontekst odpowiednio $N(\\mathbf{p})$ i $N(\\mathbf{x})$.\n",
    "\n",
    "3. Wracamy do równania definiującego wagę  $w(\\mathbf{p},\\mathbf{x})$, a konkretnie do wyrażenia $|| v(N(\\mathbf{p})) - v(N(\\mathbf{x})) ||$. Przeanalizujmy co ono oznacza. Mamy dwa otoczenia: $N(\\mathbf{p})$ i $N(\\mathbf{x})$. Każde z nich mnożymy przez odpowiadającą maskę Gaussa - funkcja $v$. Otrzymujemy dwie macierze, które odejmujemy od siebie punktowo. Następnie obliczamy kwadrat z normy ($L_2$ definiujemy jako $||X||_2 = \\sqrt{\\sum_k|X_k|^2}$. Otrzymujemy zatem jedną liczbę, która opisuje nam podobieństwo otoczeń pikseli $\\mathbf{x}$ i $\\mathbf{p}$. Mała wartość oznacza otoczenia zbliżone, duża - różniące się. Ponieważ, z dokładnością do stałych, liczba ta stanowi wykładnik funkcji $e^{-x}$, to ostatecznie waga jest zbliżona do 1 dla otoczeń podobnych, a szybko maleje wraz z malejącym podobieństwem kontekstów.\n",
    "\n",
    "4. Podsumowując: jak wynika z powyższej analizy filtr NLM to taki filtr bilateralny, w którym zamiast pojedynczych pikseli porównuje się ich lokalne otoczenia. Wpływa to pozytywnie na jakość filtracji, niestety kosztem złożoności obliczeniowej."
   ]
  },
  {
   "cell_type": "markdown",
   "metadata": {
    "collapsed": false,
    "pycharm": {
     "name": "#%% md\n"
    }
   },
   "source": [
    "## Implementacja\n",
    "\n",
    "W ramach zadania należy zaimplementować filtr NLM, ocenić jego działanie w porównaniu do filtra Gaussa i bilateralnego oraz dokonać pomiaru czasu obliczeń (dla trzech wymienionych metod).\n",
    "\n",
    "Jak już się zrozumie jak działa NLM, jego implementacja jest dość prosta.\n",
    "Wartość parametru $\\alpha$ należy dobrać eksperymentalnie.\n",
    "Nie należy także \"przesadzić\" z rozmiarem obszaru poszukiwań (np. 11x11) oraz kontekstu (5x5 lub 3x3).\n",
    "\n",
    "Wskazówki do implementacji:\n",
    "- algorytm sprowadza się do dwóch podwójnych pętli for: zewnętrzne po pikselach, wewnętrzne po kolejnych obszarach przeszukań,\n",
    "- przed realizacją trzeba przemyśleć problem pikseli brzegowych - de facto problemów jest kilka. Po pierwsze nie dla każdego piksela można wyznaczyć pełny obszar przeszukań (tu propozycja, aby filtrację przeprowadzać tylko dla pikseli z pełnym obszarem). Po drugie, ponieważ rozpatrujemy konteksty, to nawet dla piksela o \"pełnym\" obszarze przeszukań, będą istnieć piksele, dla których nie pełnych kontekstów (sugestia - powiększyć obszar przeszukać, tak aby zawierał konteksty). Ostatni problem jest bardziej techniczny/implementacyjny. Jeśli w kolejnych iteracjach \"jawnie\" wytniemy fragment o rozmiarach obszaru przeszukiwań, to znowu pojawi się problem brzegowy - tu można albo wyciąć nieco większy obszar, albo cały czas \"pracować\" na obrazie oryginalnym (\"żonglerka indeksami\").\n",
    "- warto sprawdzać indeksy i rozmiary \"wycinanych\" kontekstów,\n",
    "- wagi wyliczamy w trzech krokach:\n",
    "    - obliczenia dla $N(\\mathbf{x})$ + inicjalizacja macierzy na wagi,\n",
    "    - podwójna pętla, w której przeprowadzamy obliczenia dla kolejnych $N(\\mathbf{p})$ oraz wyliczamy wagi,\n",
    "    - normalizacja macierzy wag oraz końcowa filtracja obszaru w wykorzystaniem wag.\n",
    "- uwaga, obliczenia trochę trwają, nawet dla obrazka 256x256 i względnie niewielkich obszaru przeszukań i kontesktu.\n",
    "\n",
    "Efekt końcowy:\n",
    "- porównanie wyników metod: filtr Gaussa, filtr bilateralny oraz filtr NLM (2-3 zdania komentarza),\n",
    "- porównanie czasu działania powyższych metod (1 zdanie komentarza).\n"
   ]
  },
  {
   "cell_type": "code",
   "execution_count": null,
   "metadata": {
    "collapsed": false,
    "pycharm": {
     "name": "#%%\n"
    }
   },
   "outputs": [],
   "source": [
    "from matplotlib import pyplot as plt\n",
    "import numpy as np\n",
    "from scipy.io import loadmat\n",
    "import math\n",
    "import os\n",
    "\n",
    "if not os.path.exists(\"MR_data.mat\") :\n",
    "    !wget https://raw.githubusercontent.com/vision-agh/poc_sw/master/07_Bilateral/MR_data.mat --no-check-certificate\n",
    "mat = loadmat(\"MR_data.mat\")\n",
    "Input = mat['I_noisy2']\n",
    "plt.imshow(Input.astype(\"uint8\"))\n",
    "plt.axis(\"off\")\n",
    "plt.gray()\n",
    "plt.show()"
   ]
  },
  {
   "cell_type": "code",
   "execution_count": null,
   "metadata": {},
   "outputs": [],
   "source": [
    "import timeit\n",
    "def euclidean_norm(*args):\n",
    "    return np.sqrt(np.sum([np.power(i,2) for i in args]))\n",
    "\n",
    "def gauss(x,sigma):\n",
    "    return (1/(sigma * np.sqrt(2*np.pi)))*np.exp(-(np.power(x,2)/(2*(sigma**2))))\n",
    "\n",
    "def w(img,x,y,size_v,size_n,sigma,alpha,convo):\n",
    "    res_t = [[ np.exp(-(\n",
    "        euclidean_norm(convo*(img[x-size_n//2:x+size_n//2+1,y-size_n//2:y+size_n//2+1] - img[x+i-size_n//2:x+i+size_n//2+1,y+j-size_n//2:y+j+size_n//2+1]))**2)/(alpha*sigma**2))#\n",
    "    for j in range(-size_v//2,size_v//2)] \n",
    "    for i in range(-size_v//2,size_v//2)]\n",
    "    return np.array(res_t)/np.sum(res_t)\n",
    "\n",
    "def non_local_means(img, size_v, size_n, sigma, alpha):\n",
    "    convo = np.array([[gauss(euclidean_norm(i-size_n//2,j-size_n//2),sigma) for j in range(size_n)] for i in range(size_n)])\n",
    "    res = [[ np.sum(img[i-size_v//2:i+size_v//2+1, j-size_v//2:j+size_v//2+1]*(t:=w(img,i,j,size_v,size_n, sigma,alpha,convo)))\n",
    "    for j in range(size_v//2 + size_n//2+1,len(img[0])-size_v//2-size_n//2)] \n",
    "    for i in range(size_v//2 + size_n//2+1, len(img)-size_v//2-size_n//2)]\n",
    "    return np.array(res).astype('uint8')\n"
   ]
  },
  {
   "cell_type": "code",
   "execution_count": null,
   "metadata": {},
   "outputs": [],
   "source": [
    "start_time = timeit.default_timer()\n",
    "Input_non_local = non_local_means(Input.copy(),7,3,4,5)\n",
    "print(timeit.default_timer() - start_time)"
   ]
  },
  {
   "cell_type": "code",
   "execution_count": null,
   "metadata": {},
   "outputs": [],
   "source": [
    "def euclidean_norm(*args):\n",
    "    return np.sqrt(sum([i**2 for i in args]))\n",
    "\n",
    "def gamma_func(x,sigma):\n",
    "    return np.exp(- (np.power(x,2)/(2*sigma**2)))\n",
    "\n",
    "def Billatery_convolution(img, size, v, sigma_r, metric = euclidean_norm , show_fillter = False):\n",
    "    sigma = np.sqrt(v)\n",
    "    convo = np.array([[gauss(metric(i-size//2,j-size//2),sigma) for j in range(size)] for i in range(size)])\n",
    "    res = [[np.sum((temp:=img[i-size//2:i+size//2+1, j-size//2:j+size//2+1])*(b:=convo*gamma_func(metric(img[i,j]*np.ones(temp.shape) - temp),sigma_r)))/np.sum(b) for j in range(size//2,len(img[0])-size//2)] for i in range(size//2, len(img)-size//2)]\n",
    "    return np.array(res)\n",
    "start_time = timeit.default_timer()\n",
    "Input_bill = Billatery_convolution(Input.copy(), 9, 5, 23)\n",
    "print(timeit.default_timer() - start_time)"
   ]
  },
  {
   "cell_type": "code",
   "execution_count": null,
   "metadata": {},
   "outputs": [],
   "source": [
    "def classic_convolution(img, size, v, metric = euclidean_norm , show_fillter = False):\n",
    "    sigma = np.sqrt(v)\n",
    "    convo = np.array([[gauss(metric(i-size//2,j-size//2),sigma) for j in range(size)] for i in range(size)])\n",
    "    res = [[np.sum(img[i-size//2:i+size//2+1, j-size//2:j+size//2+1]*convo)/np.sum(convo) for j in range(size//2,len(img[0])-size//2)] for i in range(size//2, len(img)-size//2)]\n",
    "    return np.array(res)\n",
    "start_time = timeit.default_timer()\n",
    "Input_classic = classic_convolution(Input.copy(), 9, 5)\n",
    "print(timeit.default_timer() - start_time)"
   ]
  },
  {
   "cell_type": "code",
   "execution_count": null,
   "metadata": {},
   "outputs": [],
   "source": [
    "fig , ax = plt.subplots(2,2)\n",
    "fig.set_size_inches(20,20)\n",
    "ax[1,1].imshow(Input_non_local)\n",
    "ax[1,1].set_xticks([])\n",
    "ax[1,1].set_yticks([])\n",
    "ax[0,1].imshow(Input_classic)\n",
    "ax[0,1].set_xticks([])\n",
    "ax[0,1].set_yticks([])\n",
    "ax[1,0].imshow(Input_bill)\n",
    "ax[1,0].set_xticks([])\n",
    "ax[1,0].set_yticks([])\n",
    "ax[0,0].imshow(Input)\n",
    "ax[0,0].set_xticks([])\n",
    "ax[0,0].set_yticks([])\n",
    "ax[0,1].set_title(\"Gausian blurr\")\n",
    "ax[0,0].set_title(\"Orginal image\")\n",
    "ax[1,1].set_title(\"NLM\")\n",
    "ax[1,0].set_title(\"Bilateral filter\")\n",
    "plt.show()"
   ]
  },
  {
   "cell_type": "markdown",
   "metadata": {},
   "source": [
    "Najlepszy wynik osiągneła metoda NLM lecz koszt był dużo większy niż pozostałych metod z uwagi na zagnieżdżenie pętli i ciągłego sprawdzania kontekstów punktów. najgorszy wynik dała metoda konwolucji z maską gaussa. uważam że najlepszym wyborem filtracji jest filtracja bilateryjna z uwagi na niewiele większą złożoność obliczeniową i bardzo podobne rezultaty do NLM."
   ]
  }
 ],
 "metadata": {
  "kernelspec": {
   "display_name": "Python 3",
   "language": "python",
   "name": "python3"
  },
  "language_info": {
   "codemirror_mode": {
    "name": "ipython",
    "version": 3
   },
   "file_extension": ".py",
   "mimetype": "text/x-python",
   "name": "python",
   "nbconvert_exporter": "python",
   "pygments_lexer": "ipython3",
   "version": "3.8.5"
  }
 },
 "nbformat": 4,
 "nbformat_minor": 0
}
