{
 "cells": [
  {
   "cell_type": "markdown",
   "metadata": {},
   "source": [
    "### Transformata Hougha w przestrzeni ab - Domowe\n",
    "Przestrzeń ρ,θ nie jest jedyną przestrzenią w której punkt odpowiada parametrom prostej. Np. można spróbować wykorzystać tradycyjne równanie prostej:\n",
    "\n",
    "y=ax+b\n",
    "\n",
    "W tej przestrzeni reprezentacją pęku prostych jest prosta. \n",
    "\n",
    "Zadanie: napisać funkcję, która jako argument przyjmuje obraz (binarny) oraz parametry:\n",
    "\n",
    "- aMin - minimalna wartość parametru a\n",
    "- aMax - maksymalna  wartość parametru a\n",
    "- aSkok - skok parametru a\n",
    "- bMin - minimalna wartość parametru b\n",
    "- bMax  - maksymalna  wartość parametru b\n",
    "- bSkok - skok parametru b\n",
    "Jako wynik ma zwrócić macierz przestrzeni Hougha ab.\n",
    "\n",
    "Uwagi:\n",
    "\n",
    "- zadanie może wyglądać na skomplikowane ale tak naprawdę wymaga tylko starannego przemyślenia\n",
    "- najważniejszy jest problem \"adresowania\" macierzy H. Można do tego wykorzystać dwa wektory A i B ze wszystkimi możliwymi wartościami jakie parametry a i b mogę przyjąć (w podanych zakresach z podanym skokiem). Wówczas indeksy tych wektorów będą współrzędnymi w macierzy H. Do stworzenia wektorów wykorzystaj funkcję _np.arange_\n",
    "- na podstawie rozmiaru wektorów A i B (własność _shape_) należy stworzyć wyzerowaną macierz H (funkcja _np.zeros_) \n",
    "- dla każdego punktu krawędzi na obrazie należy:\n",
    "    - używająć wektora A dla każdej z jego wartości a obliczyć odpowiednią wartość b - indeksy kolejnych wartości a (a_idx) będą jedną z współrzędnych macierzy H, natomiast drugą współrędną mozna uzyskać jako b_idx = np.argmin(abs(B - b)).\n",
    "        - każde a_idx i b_idx wyznaczą punkt w macierzy H, który należy zinkrementować\n",
    "- działanie funkcji należy przetestować na punktach generowanych w 'edytorku' z punktu \"Transformacja Hougha dla małej liczby punktów\". Proponowane parametry funkcji:\n",
    "    - aMin: -5\n",
    "    - aMax:  5\n",
    "    - aSkok: 0.05 \n",
    "    - bMin: -100\n",
    "    - bMax:  100\n",
    "    - bSkok: 1\n",
    "\n",
    "Zastanów się w przypadku jakich prostych reprezentacja ab nie sprawdzi się."
   ]
  },
  {
   "cell_type": "code",
   "execution_count": null,
   "metadata": {},
   "outputs": [],
   "source": [
    "import matplotlib.pyplot as plt\n",
    "import cv2\n",
    "import numpy as np\n",
    "from skimage.transform import hough_line, hough_line_peaks\n",
    "\n",
    "def hugh(img,aMin,aMax,aSkok,bMin,bMax,bSkok):\n",
    "    A = np.arange(aMin,aMax,aSkok)\n",
    "    B = np.arange(bMin,bMax,bSkok)\n",
    "    B_dic = {v:n for n,v in enumerate(B)}\n",
    "    H = np.zeros((len(A),len(B)))\n",
    "    for i in range(len(img)):\n",
    "        for j in range(len(img[0])):\n",
    "            if img[i,j]>0:\n",
    "                for a_idx,a in enumerate(A):\n",
    "                    b = i - a*j\n",
    "                    b_idx = np.argmin(abs(B-b))\n",
    "                    H[a_idx,b_idx] +=1\n",
    "    return H,A,B\n",
    "\n"
   ]
  },
  {
   "cell_type": "code",
   "execution_count": null,
   "metadata": {},
   "outputs": [],
   "source": [
    "img = np.zeros((64,64), dtype=np.uint8)\n",
    "img[18, 31] = 1\n",
    "H,A,B = hugh(img,-5,5,0.05,-100,100,1)\n",
    "fig, axes = plt.subplots(1, 2, figsize=(15, 6))\n",
    "ax = axes.ravel()\n",
    "ax[0].imshow(img, 'gray')\n",
    "ax[0].set_title('Input image')\n",
    "ax[0].set_axis_off()\n",
    "ax[1].imshow(H, 'gray')\n",
    "ax[1].set_title('Hough transform')\n",
    "ax[1].set_xlabel('Distance b (pixels)')\n",
    "ax[1].set_ylabel('a parameter')\n",
    "ax[1].axis('image')\n",
    "plt.tight_layout()\n",
    "plt.show() "
   ]
  },
  {
   "cell_type": "code",
   "execution_count": null,
   "metadata": {},
   "outputs": [],
   "source": [
    "img = np.zeros((64,64))\n",
    "img[50,40] = 255\n",
    "img[40,30] = 255\n",
    "H,A,B = hugh(img,-5,5,0.05,-100,100,1)\n",
    "fig, axes = plt.subplots(1, 2, figsize=(15, 6))\n",
    "ax = axes.ravel()\n",
    "ax[0].imshow(img, 'gray')\n",
    "ax[0].set_title('Input image')\n",
    "ax[0].set_axis_off()\n",
    "ax[1].imshow(H, 'gray')\n",
    "ax[1].set_title('Hough transform')\n",
    "ax[1].set_xlabel('Distance b (pixels)')\n",
    "ax[1].set_ylabel('a parameter')\n",
    "ax[1].axis('image')\n",
    "plt.tight_layout()\n",
    "plt.show() "
   ]
  },
  {
   "cell_type": "code",
   "execution_count": null,
   "metadata": {},
   "outputs": [],
   "source": [
    "img = np.zeros((64,64))\n",
    "img[50,40] = 255\n",
    "img[40,30] = 255\n",
    "img[30,20] = 255\n",
    "H,A,B = hugh(img,-5,5,0.05,-100,100,1)\n",
    "fig, axes = plt.subplots(1, 2, figsize=(15, 6))\n",
    "ax = axes.ravel()\n",
    "ax[0].imshow(img, 'gray')\n",
    "ax[0].set_title('Input image')\n",
    "ax[0].set_axis_off()\n",
    "ax[1].imshow(H, 'gray')\n",
    "ax[1].set_title('Hough transform')\n",
    "ax[1].set_xlabel('Distance b (pixels)')\n",
    "ax[1].set_ylabel('a parameter')\n",
    "ax[1].axis('image')\n",
    "plt.tight_layout()\n",
    "plt.show() "
   ]
  },
  {
   "cell_type": "code",
   "execution_count": null,
   "metadata": {},
   "outputs": [],
   "source": [
    "img = np.zeros((64,64))\n",
    "img[50,40] = 255\n",
    "img[40,30] = 255\n",
    "img[30,20] = 255\n",
    "img[20,20] = 255\n",
    "H,A,B = hugh(img,-5,5,0.05,-100,100,1)\n",
    "fig, axes = plt.subplots(1, 2, figsize=(15, 6))\n",
    "ax = axes.ravel()\n",
    "ax[0].imshow(img, 'gray')\n",
    "ax[0].set_title('Input image')\n",
    "ax[0].set_axis_off()\n",
    "ax[1].imshow(H, 'gray')\n",
    "ax[1].set_title('Hough transform')\n",
    "ax[1].set_xlabel('Distance b (pixels)')\n",
    "ax[1].set_ylabel('a parameter')\n",
    "ax[1].axis('image')\n",
    "plt.tight_layout()\n",
    "plt.show() "
   ]
  },
  {
   "cell_type": "markdown",
   "metadata": {},
   "source": [
    "transformacja nie powiedzie się gdy wynikowa prosta miałaby parametry spoza zakresów aMin-aMax lub bMin-bMax. takim przykładładem może być pionowa linia prosta która powinna być zaznaczona jako przecięcia dla parametru a w +inf i -inf czego nie można fizycznie zaobserwować/zrealizować."
   ]
  }
 ],
 "metadata": {
  "celltoolbar": "Raw Cell Format",
  "interpreter": {
   "hash": "7f46a541a5fcb097b81b0a1ed969985dcdc63c81f34ae8abef835ad67b1a564a"
  },
  "kernelspec": {
   "display_name": "Python 3.8.8 ('base')",
   "language": "python",
   "name": "python3"
  },
  "language_info": {
   "codemirror_mode": {
    "name": "ipython",
    "version": 3
   },
   "file_extension": ".py",
   "mimetype": "text/x-python",
   "name": "python",
   "nbconvert_exporter": "python",
   "pygments_lexer": "ipython3",
   "version": "3.8.8"
  }
 },
 "nbformat": 4,
 "nbformat_minor": 2
}
