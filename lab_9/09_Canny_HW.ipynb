{
 "cells": [
  {
   "cell_type": "markdown",
   "metadata": {
    "collapsed": false,
    "pycharm": {
     "name": "#%% md\n"
    }
   },
   "source": [
    "## Zadanie domowe - Algorytm Canny'ego\n",
    "\n",
    "Celem zadania domowego jest wykonanie pełnej implementacji algorytmu Canny'ego.\n",
    "\n",
    "W ramach ćwiczenia w trakcie laboratorium wyznaczono obrazy $g_{NH}$ i $g_{NL}$.\n",
    "Dla przypomnienia:\n",
    "Można powiedzieć, że na obrazie $g_{NH}$ są \"pewne\" krawędzie.\n",
    "Natomiast na $g_{NL}$ \"potencjalne\".\n",
    "Często krawędzie \"pewne\" nie są ciągłe.\n",
    "Wykorzystuje się więc krawędzie \"potencjalne\", aby uzupełnić nieciągłości.\n",
    "Procedura wygląda następująco:\n",
    "1. Stwórz stos zawierający wszystkie piksele zaznaczone na obrazie $g_{NH}$.\n",
    "W tym celu wykorzystaj listę współrzędnych `[row, col]`.\n",
    "Do pobrania elementu z początku służy metoda `list.pop()`.\n",
    "Do dodania elementu na koniec listy służy metoda `list.append(new)`.\n",
    "2. Stwórz obraz, który będzie zawierał informację czy dany piksel został już odwiedzony.\n",
    "3. Stwórz obraz, który zawierać będzie wynikowe krawędzie.\n",
    "Jej rozmiar jest równy rozmiarowi obrazu.\n",
    "4. Wykonaj pętlę, która będzie pobierać elementy z listy, dopóki ta nie będzie pusta.\n",
    "W tym celu najlepiej sprawdzi się pętla `while`.\n",
    "    - W każdej iteracji pobierz element ze stosu.\n",
    "    - Sprawdź, czy dany element został już odwiedzony.\n",
    "    - Jeśli nie został, to:\n",
    "        - Oznacz go jako odwiedzony,\n",
    "        - Oznacz piksel jako krawędź w wyniku,\n",
    "        - Sprawdź otoczenie piksela w obrazie $g_{NL}$,\n",
    "        - Dodaj do stosu współrzędne otoczenia, które zawierają krawędź.\n",
    "        Można to wykonać np. pętlą po stworzonym otoczeniu.\n",
    "7. Wyświetl obraz oryginalny, obraz $g_{NH}$ oraz obraz wynikowy.\n",
    "8. Porównaj wynik algorytmu z wynikiem OpenCV.\n",
    "\n",
    "Pomocnicze obrazy $g_{NH}$ i $g_{NL}$ zostały wprowadzone dla uproszczenia opisu.\n",
    "Algorytm można zaimplementować w bardziej \"zwarty\" sposób.\n",
    "\n",
    "Na podstawie powyższego opisu zaimplementuj pełny algorytm Canny'ego."
   ]
  },
  {
   "cell_type": "code",
   "execution_count": null,
   "metadata": {
    "collapsed": false,
    "pycharm": {
     "name": "#%% Zadanie domowe - Canny\n"
    }
   },
   "outputs": [],
   "source": [
    "from copy import deepcopy\n",
    "import cv2\n",
    "from matplotlib import pyplot as plt\n",
    "import numpy as np\n",
    "import math\n",
    "import os\n",
    "\n",
    "def nonmax(alpha,M):\n",
    "    d1  = np.logical_or(np.logical_and(alpha<=22.5,alpha>-22.5),np.logical_and(alpha<=-157.5,alpha>157.5))\n",
    "    d2 = np.logical_or(np.logical_and(alpha<=67.5,alpha>22.5),np.logical_and(alpha<=-112.5,alpha>-157.5))\n",
    "    d3 = np.logical_or(np.logical_and(alpha<=112.5,alpha>67.5),np.logical_and(alpha<=-67.5,alpha>-112.5))\n",
    "    d4 = np.logical_or(np.logical_and(alpha<=157.5,alpha>112.5),np.logical_and(alpha<=-22.5,alpha>-67.5))\n",
    "    D = [d1,d2,d3,d4]\n",
    "    gn = deepcopy(M[1:-1,1:-1]) \n",
    "    for i in range(1,len(M)-1):\n",
    "        for j in range(1,len(M[0])-1):\n",
    "            if max(d1[i,j],d2[i,j],d3[i,j],d4[i,j]) == d1[i,j]:\n",
    "                t = d1\n",
    "            if max(d1[i,j],d2[i,j],d3[i,j],d4[i,j]) == d2[i,j]:\n",
    "                t = d2\n",
    "            if max(d1[i,j],d2[i,j],d3[i,j],d4[i,j]) == d3[i,j]:\n",
    "                t = d3\n",
    "            if max(d1[i,j],d2[i,j],d3[i,j],d4[i,j]) == d4[i,j]:\n",
    "                t = d4\n",
    "            if np.max(t[i-1:i+2,j-1:j+2]*M[i-1:i+2,j-1:j+2]) != M[i,j]:\n",
    "                gn[i-1,j-1] = 0\n",
    "    return gn\n",
    "\n",
    "def canny(img,Th,Tl,n):\n",
    "    sigma = 1.7\n",
    "    IG = cv2.GaussianBlur(img, (13,13), sigma)\n",
    "    x_filter = np.array([[1,0,-1],[2,0,-2],[1,0,-1]])\n",
    "    y_filter = np.array([[1,2,1],[0,0,0],[-1,-2,-1]])\n",
    "    G_x = np.array([[np.sum(IG[j-1:j+2,i-1:i+2]*x_filter) for i in range(1,len(img[0])-1)] for j in range(1,len(img)-1)])\n",
    "    G_y = np.array([[np.sum(IG[j-1:j+2,i-1:i+2]*y_filter) for i in range(1,len(img[0])-1)] for j in range(1,len(img)-1)])\n",
    "    M = np.sqrt(G_x*G_x + G_y*G_y)\n",
    "    alpha = np.arctan2(G_y,G_x) * 180 / np.pi\n",
    "    gn = nonmax(alpha,M)\n",
    "    GH = (gn>Th)*255\n",
    "    GL = np.logical_and(gn<Th,gn>Tl)*255\n",
    "    stos = [[i,j] for i in range(len(GH)) for j in range(len(GH[0])) if GH[i,j]==255]\n",
    "    odwiedzony = np.zeros(GH.shape)\n",
    "    result = np.zeros(GH.shape)\n",
    "    while stos!=[]:\n",
    "        v = stos[-1]\n",
    "        stos.pop()\n",
    "        if not odwiedzony[v[0],v[1]]:\n",
    "            odwiedzony[v[0],v[1]] = 1\n",
    "            result[v[0],v[1]] = 255\n",
    "            temp = [[i,j] \n",
    "            for i in range(v[0]-n if v[0]-n>=0 else v[0],v[0]+1+n if v[0]+1+n<=len(GH) else v[0]+1) \n",
    "            for j in range(v[1]-n if v[1]-n>=0 else v[1],v[1]+1+n if v[1]+1+n<=len(GH[0]) else v[1]+1) if GL[i,j]==255 and (i!=0 or j!=0)]\n",
    "            stos.extend(temp)\n",
    "    return result,GH\n"
   ]
  },
  {
   "cell_type": "code",
   "execution_count": null,
   "metadata": {},
   "outputs": [],
   "source": [
    "if not os.path.exists(\"dom.png\") :\n",
    "    !wget https://raw.githubusercontent.com/vision-agh/poc_sw/master/09_Canny/dom.png --no-check-certificate\n",
    "I_house = cv2.imread('dom.png', cv2.IMREAD_GRAYSCALE)\n",
    "img,gh = canny(I_house,80,28,5)\n",
    "fig,ax = plt.subplots(2,2)\n",
    "fig.set_size_inches([20,20])\n",
    "plt.gray()\n",
    "ax[0,0].imshow(I_house)\n",
    "ax[0,0].set_xticks([])\n",
    "ax[0,0].set_yticks([])\n",
    "ax[0,0].set_title(\"orginal\")\n",
    "ax[1,0].imshow(gh)\n",
    "ax[1,0].set_xticks([])\n",
    "ax[1,0].set_yticks([])\n",
    "ax[1,0].set_title(\"GH picture\")\n",
    "ax[1,1].imshow(img)\n",
    "ax[1,1].set_xticks([])\n",
    "ax[1,1].set_yticks([])\n",
    "ax[1,1].set_title(\"canny\")\n",
    "ax[0,1].imshow(cv2.Canny(I_house,190,370,None,3,1))\n",
    "ax[0,1].set_xticks([])\n",
    "ax[0,1].set_yticks([])\n",
    "ax[0,1].set_title(\"cv2.canny\")\n",
    "plt.show()"
   ]
  }
 ],
 "metadata": {
  "interpreter": {
   "hash": "7f46a541a5fcb097b81b0a1ed969985dcdc63c81f34ae8abef835ad67b1a564a"
  },
  "kernelspec": {
   "display_name": "Python 3.8.8 ('base')",
   "language": "python",
   "name": "python3"
  },
  "language_info": {
   "codemirror_mode": {
    "name": "ipython",
    "version": 3
   },
   "file_extension": ".py",
   "mimetype": "text/x-python",
   "name": "python",
   "nbconvert_exporter": "python",
   "pygments_lexer": "ipython3",
   "version": "3.8.8"
  }
 },
 "nbformat": 4,
 "nbformat_minor": 4
}
