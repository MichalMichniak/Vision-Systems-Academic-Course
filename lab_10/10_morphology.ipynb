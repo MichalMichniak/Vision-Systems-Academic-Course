{
 "cells": [
  {
   "cell_type": "markdown",
   "metadata": {},
   "source": [
    "# Przekształcenia morfologiczne\n",
    "\n",
    "## Cel:\n",
    "- zapoznanie z podstawowymi przekształceniami morfologicznymi – erozją, dylatacją, otwarciem, zamknieciem, transformacją trafi, nie trafi,\n",
    "- zapoznanie ze złożonymi operacjami morfologicznymi wykorzystującymi rekonstrukcję morfologiczną,\n",
    "- zapoznanie z operacjami morfologicznym dla obrazów w odcieniach szarości – erozją, dylatacją, otwarciem, zamknieciem, filtrami top-hat i bottom-hat,\n",
    "- zapoznanie z wykorzystaniem złożonych operacji morfologicznych przy rozwiązywaniu konkretnego problemu,\n",
    "- zadanie domowe: wykorzystanie morfologii do implementacji ,,gry w życie''."
   ]
  },
  {
   "cell_type": "markdown",
   "metadata": {},
   "source": [
    "## Przypomnienie teorii\n",
    "\n",
    "### Element strukturalny\n",
    "\n",
    "Element strukturalny obrazu jest to pewien wycinek obrazu (przy dyskretnej reprezentacji obrazu – pewien podzbiór jego elementów). Najcześciej stosowanym elementem strukturalnym jest kwadratowa maska o rozmiarze 3×3 lub 5×5. Niekiedy pożądane są maski o innym kształcie, np. zbliżonym do elipsy.\n",
    "\n",
    "### Erozja\n",
    "\n",
    "Erozja (ang. _erosion_) jest podstawowym przekształceniem morfologicznym. Zakładamy, że obraz wyjściowy zawiera pewien obszar (figurę) X, wyróżniający się pewną charakterystyczną cechą (np. odróżniającą się od tła jasnością). Figura X po wykonaniu operacji erozji to zbiór punktów centralnych wszystkich elementów strukturalnych, które w całości mieszczą się we wnetrzu obszaru X. Miarą stopnia erozji jest wielkość elementu strukturalnego.\n",
    "\n",
    "Erozje można traktować jako filtr minimalny, tj. z danego otoczenia piksela (określanego przez maskę) do obrazu wynikowego wybierana jest wartość minimalna.\n",
    "\n",
    "### Dylatacja\n",
    "\n",
    "Dylatacja (ang. _dilation_): Zakładamy, że obraz wejściowy zawiera obszar X wyróżniający się pewną charakterystyczną cechą (np. jasnością). Figura przekształcona przez dylatacje to zbiór punktów centralnych wszystkich elementów strukturalnych, których którykolwiek punkt mieści sie we wnetrzu obszaru X. Miarą  dylatacji jest wielkość elementu strukturalnego.\n",
    "\n",
    "Dylatacje można traktować jako filtr maksymalny, tj. z danego otoczenia piksela (określanego\n",
    "przez maske) do obrazu wynikowego wybierana jest wartość maksymalna.\n",
    "\n",
    "### Otwarcie i zamknięcie\n",
    "\n",
    "Otwarcie (ang. _opening_) polega na wykonaniu najpierw operacji erozji, a nastepnie dylatacji.\n",
    "\n",
    "> Otwarcie = erozja + dylatacja\n",
    "\n",
    "Zamkniecie (ang. _closing_) polega na wykonaniu najpierw operacji dylatacji, a nastepnie erozji.\n",
    "\n",
    "> Zamkniecie = dylatacja + erozja\n",
    "\n",
    "### Obrazy w odcieniu szarości\n",
    "\n",
    "Obrazy w odcieniu szarości – detekcja dolin i szczytów (top-hat, bottom-hat):\n",
    "\n",
    "Aby wyodrebnić z obrazu lokalne ekstrema można wykorzystać zdefiniowane wcześniej przekształcenia: otwarcie i zamkniecie. W celu wyszukania lokalnych maksimów (szczytów) należy od wyniku otwarcia danego obrazu odjąć obraz wyjściowy. Analogicznie, aby wyodrebnić lokalne minima obrazu, należy dokonać podobnej operacji, z tym że pierwszą operacją bedzie zamkniecie. Uwaga! Należy zwrócić uwagę, że poniższe metody służą do detekcji (pokreślenia) tylko lokalnych ekstremów!"
   ]
  },
  {
   "cell_type": "markdown",
   "metadata": {},
   "source": [
    "## Podstawowe operacje morfologiczne: erozja, dylatacja, otwarcie, zamknięcie, trafi nie trafi\n",
    "\n",
    "1. Wczytaj obraz ertka.bmp\n",
    "2. Wykonaj operację erozji `cv2.erode`. Parametrami funkcji są obraz oraz element strukturalny. Element można stworzyć samodzielnie jako tablicę składającą się z 0 i 1 `np.ones((3,3))` lub posłużyć się funkcją `cv2.getStructuringElement`, do której należy podać kształt `cv2.MORPH_RECT` oraz wielkość elementu `(3,3)`. Na początku użyj kwadratu o rozmiarze 3 pikseli.\n",
    "3. Wyświetl obraz oryginalny oraz po wykonaniu erozji – najlepiej na wspólnym wykresie. Upewnij się, że rozumiesz, jak działa erozja.\n",
    "4. Zmień element strukturalny (inny kształt – koło, diament lub inny rozmiar). Ponownie wykonaj erozję, sprawdź rezultat działania operacji.\n",
    "5. Oprócz zmiany elementu strukturalnego na rezultat erozji można wpłynąć zwiększając liczbę iteracji (np. wykonać erozję trzykrotnie). Ustal element strukturalny na kwadrat o boku 3 piksele. Wykonaj erozję obrazu _ertka_ dwukrotnie, a następnie trzykrotnie. Zaobserwuj rezultaty. Wskazówka: warto zajrzeć do dokumentacji funkcji `erode`.\n",
    "6. Wczytaj obraz buzka.bmp. Dobierz element strukturalny (zdefiniuj go ręcznie jako macierz 0 i 1) w taki sposób, aby usunąć włosy o określonej orientacji (ukośnie lewo lub prawo).\n",
    "7. Uwaga: pokazane metody wpływania na rezultaty erozji wykorzystuje się identycznie dla pozostałych operacji morfologicznych – dylatacji, otwarcia i zamknięcia.\n",
    "8. Operacją odwrotną do erozji jest dylatacja `cv2.dilate`. Ustal element strukturalny na kwadrat o boku 3 piksele. Wykonaj dylatację obrazu _ertka_. Zapoznaj się z rezultatem działania.\n",
    "9. Na wspólnym wykresie wyświetl obraz oryginalny oraz obrazy po operacjach morfologicznych: erozja, dylatacja, otwarcie i zamkniecie. Otwarcie i zamknięcie można uzyskać za pomocą `cv2.morphologyEx(img, operacja, element_strukturalny)`, gdzie typem operacji jest `cv2.MORPH_OPEN` lub `cv2.MORPH_CLOSE`.\n",
    "10. Zmień obraz _ertka_ na _wyspa_, a następnie na _kolka_. Wykonaj na każdym cztery przedstawione operacje morfologiczne. Zaobserwuj rezultaty.\n",
    "11. Minizadanko: wykorzystując poznane operacje morfologiczne spowoduj, że na obrazie _ertka_ pozostanie tylko napis RT (bez wypustek i dziur).\n",
    "12. Niekiedy potrzebne jest wykrycie konkretnych konfiguracji pikseli na obrazie – przydaje się do tego transformacja trafi, nie trafi (ang. _hit-or-miss_). Pozwala ona wykryć na obrazie obecność elementów, które dokładnie odpowiadają masce.\n",
    "13. Wczytaj obraz hom.bmp. Wyświetl go. Załóżmy, że chcemy wykryć na obrazie krzyżyki 3x3. Zdefiniuj następujący element strukturalny:\n",
    "```\n",
    "[0,1,0]\n",
    "[1,1,1]\n",
    "[0,1,0]\n",
    "```\n",
    "Wykonaj transformację trafi, nie trafi – `cv2.morphologyEx(hom, cv2.MORPH_HITMISS, se1)`. Rezultat operacji wyświetl. Czy udało się zrealizować zadanie? Jeżeli pojawiają się u Państwa błędy związane z typem danych, należy obraz wejściowy przekonwertować na skalę szarości: `cv2.cvtColor(hom, cv2.COLOR_BGR2GRAY)`.\n"
   ]
  },
  {
   "cell_type": "code",
   "execution_count": null,
   "metadata": {},
   "outputs": [],
   "source": [
    "import matplotlib.pyplot as plt\n",
    "import cv2\n",
    "import numpy as np\n",
    "import os\n",
    "\n",
    "if not os.path.exists(\"buzka.bmp\") :\n",
    "    !wget https://raw.githubusercontent.com/vision-agh/poc_sw/master/10_Morphology/buzka.bmp --no-check-certificate\n",
    "if not os.path.exists(\"calculator.bmp\") :\n",
    "    !wget https://raw.githubusercontent.com/vision-agh/poc_sw/master/10_Morphology/calculator.bmp --no-check-certificate\n",
    "if not os.path.exists(\"ertka.bmp\") :\n",
    "    !wget https://raw.githubusercontent.com/vision-agh/poc_sw/master/10_Morphology/ertka.bmp --no-check-certificate\n",
    "if not os.path.exists(\"ferrari.bmp\") :\n",
    "    !wget https://raw.githubusercontent.com/vision-agh/poc_sw/master/10_Morphology/ferrari.bmp --no-check-certificate\n",
    "if not os.path.exists(\"fingerprint.bmp\") :\n",
    "    !wget https://raw.githubusercontent.com/vision-agh/poc_sw/master/10_Morphology/fingerprint.bmp --no-check-certificate\n",
    "if not os.path.exists(\"hom.bmp\") :\n",
    "    !wget https://raw.githubusercontent.com/vision-agh/poc_sw/master/10_Morphology/hom.bmp --no-check-certificate\n",
    "if not os.path.exists(\"kolka.bmp\") :\n",
    "    !wget https://raw.githubusercontent.com/vision-agh/poc_sw/master/10_Morphology/kolka.bmp --no-check-certificate\n",
    "if not os.path.exists(\"kosc.bmp\") :\n",
    "    !wget https://raw.githubusercontent.com/vision-agh/poc_sw/master/10_Morphology/kosc.bmp --no-check-certificate\n",
    "if not os.path.exists(\"szkielet.bmp\") :\n",
    "    !wget https://raw.githubusercontent.com/vision-agh/poc_sw/master/10_Morphology/szkielet.bmp --no-check-certificate\n",
    "if not os.path.exists(\"text.bmp\") :\n",
    "    !wget https://raw.githubusercontent.com/vision-agh/poc_sw/master/10_Morphology/text.bmp --no-check-certificate\n",
    "if not os.path.exists(\"wyspa.bmp\") :\n",
    "    !wget https://raw.githubusercontent.com/vision-agh/poc_sw/master/10_Morphology/wyspa.bmp --no-check-certificate\n",
    "if not os.path.exists(\"rice.png\") :\n",
    "    !wget https://raw.githubusercontent.com/vision-agh/poc_sw/master/10_Morphology/rice.png --no-check-certificate\n",
    "\n",
    "I_ertka = cv2.imread('ertka.bmp', cv2.IMREAD_GRAYSCALE)\n",
    "I_wyspa = cv2.imread('wyspa.bmp', cv2.IMREAD_GRAYSCALE)\n",
    "I_kolka = cv2.imread('kolka.bmp', cv2.IMREAD_GRAYSCALE)\n",
    "I_hom = cv2.imread('hom.bmp', cv2.IMREAD_GRAYSCALE)\n",
    "erode_ertka = cv2.erode(I_ertka, np.ones((3,3)))\n",
    "def img2(*args,title = None,size = [20,20]):\n",
    "    fig,ax = plt.subplots(1,len(args))\n",
    "    fig.set_size_inches(size[0],size[1])\n",
    "    plt.gray()\n",
    "    try: \n",
    "        len(ax)>1\n",
    "        for i in range(len(args)):\n",
    "            ax[i].imshow(args[i])\n",
    "            ax[i].set_xticks([])\n",
    "            ax[i].set_yticks([])\n",
    "            ax[i].set_title(title[i])\n",
    "    except:\n",
    "        ax.imshow(args[0])\n",
    "        ax.set_xticks([])\n",
    "        ax.set_yticks([])\n",
    "        ax.set_title(title[0])\n",
    "    plt.show()\n",
    "img2(I_ertka,erode_ertka,title=[\"orginal\",\"erode\"])\n",
    "img2(I_ertka,cv2.erode(I_ertka, cv2.getStructuringElement(cv2.MORPH_ELLIPSE,(4,4))),title=[\"orginal\",\"erode\"])\n",
    "img2(I_ertka,cv2.erode(I_ertka, cv2.getStructuringElement(cv2.MORPH_ELLIPSE,(4,4)),iterations=3),title=[\"orginal\",\"erode\"])\n",
    "I_buzka = cv2.imread('buzka.bmp', cv2.IMREAD_GRAYSCALE)\n",
    "mask = np.array([[1,0,0],[0,1,0],[0,0,1]]).astype('uint8')\n",
    "mask2 = np.array([[0,0,1],[0,1,0],[1,0,0]]).astype('uint8')\n",
    "img2(I_buzka,cv2.erode(I_buzka, mask),cv2.erode(I_buzka, mask2),title=[\"orginal\",\"erode left hair\",\"erode rigth hair\"])\n",
    "img2(I_ertka,cv2.dilate(I_ertka,np.ones((3,3))),title=[\"orginal\",\"dilate\"])\n",
    "I = I_ertka\n",
    "img2(I,cv2.erode(I, np.ones((3,3))),cv2.dilate(I,np.ones((3,3))),cv2.morphologyEx(I,cv2.MORPH_OPEN,np.ones((3,3)))\n",
    ",cv2.morphologyEx(I,cv2.MORPH_CLOSE,np.ones((3,3))),title=[\"orginal\",\"erode\",\"dilate\",\"open\",\"close\"])\n",
    "I = I_wyspa\n",
    "img2(I,cv2.erode(I, np.ones((3,3))),cv2.dilate(I,np.ones((3,3))),cv2.morphologyEx(I,cv2.MORPH_OPEN,np.ones((3,3)))\n",
    ",cv2.morphologyEx(I,cv2.MORPH_CLOSE,np.ones((3,3))),title=[\"orginal\",\"erode\",\"dilate\",\"open\",\"close\"])\n",
    "I = I_kolka\n",
    "img2(I,cv2.erode(I, np.ones((3,3))),cv2.dilate(I,np.ones((3,3))),cv2.morphologyEx(I,cv2.MORPH_OPEN,np.ones((3,3)))\n",
    ",cv2.morphologyEx(I,cv2.MORPH_CLOSE,np.ones((3,3))),title=[\"orginal\",\"erode\",\"dilate\",\"open\",\"close\"])\n",
    "I = I_ertka\n",
    "img2(cv2.morphologyEx(cv2.morphologyEx(I,cv2.MORPH_CLOSE,np.ones((3,3))),cv2.MORPH_OPEN,np.ones((3,3))),title = [\"RT bez wypustek i dziur\"],size=[10,10])\n",
    "I = I_hom\n",
    "mask = np.array([[0,1,0],[1,1,1],[0,1,0]]).astype('uint8')\n",
    "img2(I,cv2.morphologyEx(I, cv2.MORPH_HITMISS, mask),title=[\"orginal\",\"erode\"])"
   ]
  },
  {
   "cell_type": "markdown",
   "metadata": {},
   "source": [
    "## Inne operacje morfologiczne\n",
    "Do innych operacji morfologicznych należą między innymi ścienianie (ang. _thinning_), szkieletyzacja (ang. _skeletonization_), rekonstrukcja morfologiczna (ang. _morphological reconstruction_), czyszczenie brzegu (ang. _clearing border_) i uzupełnianie dziur (ang. _filling holes_). W tym rozdziale zostanie zaprezentowana rekonstrukcja morfologiczna.\n",
    "\n",
    "Rekonstrukcja morfologiczna jest operacją trójargumentową. Wymaga podania markera (obrazu, od którego zacznie się transformacja), maski (ograniczenia transformacji) oraz elementu strukturalnego. Operacja polega na wykonywaniu kroków (dopóki w dwóch kolejnych iteracjach nic się nie zmieni):\n",
    "- dylatacja obrazu markera (z danym elementem strukturalnym),\n",
    "- nowy marker = część wspólna dylatacji starego markera i maski.\n",
    "\n",
    "Trzy operacje, które wykorzystują schemat rekonstrukcji to: \n",
    "- otwarcie poprzez rekonstrukcję,\n",
    "- wypełnianie dziur,\n",
    "- czyszczenie brzegu.\n",
    "\n",
    "### Otwarcie poprzez rekonstrukcję:\n",
    "- Wczytaj obraz text.bmp, wyświetl go.\n",
    "- Załóżmy, że chcemy wykryć na obrazie litery, które zawierają długie pionowe fragmenty. W pierwszym podejściu stosujemy morfologiczne otwarcie z maską pionową o wysokości 51 pikseli (taka jest średnia wysokość liter na obrazie – `np.ones((51,1))`. Sprawdź rezultat takiej operacji.\n",
    "- Detekcja wprawdzie sie udała, ale otrzymujemy tylko pionowe kreski.\n",
    "- Rozwiązaniem jest rekonstrukcja – jako marker wybieramy obraz oryginalny poddany erozji. Maskę stanowi obraz oryginalny. Samodzielnie dobierz element strukturalny.\n",
    "- Zaimplementuj rekonstrukcję i porównaj efekt otwarcia i rekonstrukcji.\n"
   ]
  },
  {
   "cell_type": "code",
   "execution_count": null,
   "metadata": {},
   "outputs": [],
   "source": [
    "I_text = cv2.imread('text.bmp', cv2.IMREAD_GRAYSCALE)\n",
    "mask = np.ones((51,1)).astype('uint8')\n",
    "I = I_text\n",
    "morph = cv2.morphologyEx(I,cv2.MORPH_OPEN,mask)\n",
    "img2(I,morph,title=[\"orginal\",\"open\"])\n",
    "def reconstruct(img,mask, struct):\n",
    "    prev = img\n",
    "    while True:\n",
    "        img = cv2.dilate(img,struct)\n",
    "        img = np.logical_and(img > 1, mask > 1).astype('uint8')*255\n",
    "        if (img == prev).all():\n",
    "            return img\n",
    "        prev = img\n",
    "img2(reconstruct(morph,I_text,np.ones((3,3))),title=[\"reconstructed\"])"
   ]
  },
  {
   "cell_type": "markdown",
   "metadata": {},
   "source": [
    "## Operacje morfologiczne dla obrazów w skali szarości\n",
    "\n",
    "Wszystkie dotychczasowe operacje (oprócz transformacji trafi, nie trafi) mają swoje odpowieniki dla obrazów w skali szarości. Konieczne jest tylko podanie definicji erozji i dylatacji w nieco innej formie:\n",
    "- Erozja – filtr minimalny.\n",
    "- Dylatacja – filtr maksymalny.\n",
    "\n",
    "\n",
    "1. Wczytaj obraz ferrari.bmp i wykonaj operacje morfologiczne: erozję i dylatację. Element strukturalny ustal na kwadrat 3×3. Oblicz też różnicę pomiędzy obrazem po dylatacji a po erozji – czyli tzw. gradient morfologiczny. Rezultaty wyświetl na wspólnym wykresie.\n",
    "2. Otwarcie to tłumienie jasnych detali na obrazie. Zamkniecie to tłumienie ciemnych detali na obrazie. Potwierdź powyższe stwierdzenia wykonując obie operacje na obrazie _ferrari_.\n",
    "3. Wykonaj operacje top-hat i bottom-hat `cv2.morphologyEx(img, cv2.MORPH_TOPHAT, strel)` oraz `cv2.morphologyEx(img, cv2.MORPH_BLACKHAT, strel)` na obrazie _ferrari_. Jakie obszary udało sie wykryć za pomocą tej operacji? Z jakich operacji składa sie filtr top-hat?\n",
    "4. Wczytaj obraz rice.png (z laboratorium o binaryzacji). Wyświetl go. Zwróć uwage na niejednorodne oświetlenie. Wykonaj operacje top-hat z dużym elementem strukturalnym (np. koło o rozmiarze 10) na tym obrazie. Wynik wyświetl. Co stało się z niejednorodnością oświetlenia?"
   ]
  },
  {
   "cell_type": "code",
   "execution_count": null,
   "metadata": {
    "pycharm": {
     "name": "#%%\n"
    }
   },
   "outputs": [],
   "source": [
    "I_ferrari = cv2.imread(\"ferrari.bmp\",cv2.IMREAD_GRAYSCALE)\n",
    "img2(I_ferrari, x:=cv2.erode(I_ferrari,np.ones((3,3))),np.abs(I_ferrari-x),y:=cv2.dilate(I_ferrari,np.ones((3,3))),np.abs(y-I_ferrari),title=[\"orginal\",\"erode\",\"||orginal - erode||\",\"dilate\",\"||orginal-dilate||\"])\n",
    "img2(I_ferrari,cv2.morphologyEx(I_ferrari,cv2.MORPH_OPEN,np.ones((3,3))),cv2.morphologyEx(I_ferrari,cv2.MORPH_CLOSE,np.ones((3,3))),title=[\"orginal\",\"open\",\"close\"])\n",
    "img2(I_ferrari,cv2.morphologyEx(I_ferrari,cv2.MORPH_TOPHAT,np.ones((3,3))),cv2.morphologyEx(I_ferrari,cv2.MORPH_BLACKHAT,np.ones((3,3))),title=[\"orginal\",\"tophat\",\"blackhat\"])"
   ]
  },
  {
   "cell_type": "markdown",
   "metadata": {},
   "source": [
    "3.)  za pomocą filtru tophat udało się wykryć obszary lokalnych maksimów operacja składa się z operacji odjęcia otwarcia od obrazu orginalnego."
   ]
  },
  {
   "cell_type": "code",
   "execution_count": null,
   "metadata": {},
   "outputs": [],
   "source": [
    "I_ferrari = cv2.imread(\"rice.png\",cv2.IMREAD_GRAYSCALE)\n",
    "img2(I_ferrari,cv2.morphologyEx(I_ferrari,cv2.MORPH_TOPHAT,np.ones((10,10))),title=[\"orginal\",\"top-hat\"])"
   ]
  },
  {
   "cell_type": "markdown",
   "metadata": {},
   "source": [
    "## Przykład zastosowania morfologii\n",
    "\n",
    "1. Wczytaj obraz calculator.bmp. Wyświetl go. Zadanie do realizacji: wyizolować tekst na klawiszach kalkulatora.\n",
    "2. W pierwszym kroku usunięte zostaną poziome odbicia znajdujące się na górnej krawędzi każdego z klawiszy. Wykorzystamy fakt, że odbicie jest dłuższe niż jakikolwiek pojedynczy znak. Wykonujemy otwarcie przez rekonstrukcję (można wykorzystać kod z wcześniejszego zadania, ale tym razem mamy do czynienia z obrazem w skali szarości zamiast z binarnym – proszę się zastanowić, jaka operacja jest odpowiednikiem operacji AND?):\n",
    "  - początkowo wykonujemy erozję z elementem strukturalnym w postaci poziomej linii — `np.ones((1,71))`,\n",
    "  - następnie dokonujemy rekonstrukcji: marker – obraz po erozji, maska – obraz oryginalny,\n",
    "  - wynik operacji wyświetl. Dla porównania wyświetl wynik klasycznego otwarcia z takim samym elementem strukturalnym. W czym otwarcie przez rekonstrukcję jest lepsze od klasycznego?\n",
    "3. W poprzednim kroku (tj. w wyniku otwarcia przez rekonstrukcję) uzyskaliśmy obraz tła. Należy go teraz odjąć od obrazu oryginalnego. Ten rodzaj operacji można nazwać top-hat poprzez rekonstrukcję. Wynik wyświetl. Dla porównania wyświetl wynik klasycznej operacji top-hat – różnicy miedzy obrazem oryginalnym a obrazem po klasycznym otwarciu.\n",
    "4. W podobny sposób należy zlikwidować odblaski pionowe:\n",
    "  - erozja z elementem strukturalnym w postaci poziomej linii – `np.ones((1,11))` – zostaną zachowane wszystkie znaki (bo prawie wszystkie są szersze). Uwaga. Operacje wykonujemy na uzyskanym w kroku 3 rezultacie odjęcia od obrazu oryginalnego, obrazu po rekonstrukcji.\n",
    "  - rekonstrukcja: marker – obraz po erozji, maska – obraz z punktu 3 (różnica oryginalnego i tła),\n",
    "  - wynik wyświetl.\n",
    "5. Rezultat jest niemal satysfakcjonujący, ale wystąpił problem z cienkimi pionowymi elementami napisów – np. I na klawiszu ASIN. Wykorzystując fakt, że usunięte znaki znajdują się w bezpośrednim sąsiedztwie istniejących znaków wykonujemy następujące operacje:\n",
    "  - dylatacja z elementem `np.ones((1,21))`,\n",
    "  - rekonstrukcja z markerem w postaci – minimum(obraz po dylatacji z punktu powyżej, obraz uzyskany w punkcie 3, tj. różnica oryginalnego i tła) oraz maską – obraz z pkt. 3.\n",
    "6. Rezultat wyświetl. Czy za pomocą zaproponowanych operacji udało się uzyskać zamierzony efekt – ekstrakcję napisów?\n"
   ]
  },
  {
   "cell_type": "code",
   "execution_count": null,
   "metadata": {
    "pycharm": {
     "name": "#%%\n"
    }
   },
   "outputs": [],
   "source": [
    "def reconstruct(img,mask, struct):\n",
    "    prev = img\n",
    "    while True:\n",
    "        img = cv2.dilate(img,struct)\n",
    "        img = np.min((img,mask),axis=0).astype('uint8')\n",
    "        if (img == prev).all():\n",
    "            return img\n",
    "        prev = img\n",
    "I_calc = cv2.imread(\"calculator.bmp\",cv2.IMREAD_GRAYSCALE)\n",
    "plt.imshow(I_calc)\n",
    "plt.xticks([])\n",
    "plt.yticks([])\n",
    "plt.show()\n",
    "I_calc_copy = I_calc.copy()\n",
    "I_calc_background = cv2.erode(I_calc,np.ones((1,71)))\n",
    "I_calc_background = reconstruct(I_calc_background,I_calc,np.ones((3,3)))\n",
    "plt.imshow(I_calc_background)\n",
    "plt.title(\"background\")\n",
    "plt.xticks([])\n",
    "plt.yticks([])\n",
    "plt.show()\n",
    "I_calc_copy = I_calc_copy - I_calc_background\n",
    "I_calc_copy_copy = I_calc_copy.copy()\n",
    "img2(cv2.morphologyEx(I_calc,cv2.MORPH_TOPHAT,np.ones((1,71))),I_calc_copy, title= [\"classic top-hat\", \"reconstruction top-hat\"])\n",
    "I_calc_background = cv2.erode(I_calc_copy,np.ones((1,11)))\n",
    "I_calc_background = reconstruct(I_calc_background,I_calc_copy_copy,np.ones((3,3)))\n",
    "I_calc_copy = I_calc_background\n",
    "img2(I_calc_copy, title= [ \"reconstruction top-hat\"],size=[10,10])\n",
    "I_calc_background = cv2.dilate(I_calc_copy,np.ones((1,21)))\n",
    "I_calc_background = reconstruct(I_calc_background,I_calc_copy_copy,np.ones((3,3)))\n",
    "img2(I_calc_background, title= [ \"result\"],size=[10,10])\n"
   ]
  },
  {
   "cell_type": "markdown",
   "metadata": {},
   "source": [
    "otwarcie przez rekonstrukcję jest lepsze z uwagi na fakt wykrywania pełnych obiektów niezależnie od kształtu wystarczy tylko punkt startowy a otwarcie klasyczne jest uzależnione od obiektu strukturalnego podanego na jednorazową dylatację.\n",
    "Za pomocą zaproponowanych operacji udało się otrzymać zamierzony efekt lecz pozostało pare zakłuceń w obrazie wynikowym."
   ]
  }
 ],
 "metadata": {
  "celltoolbar": "Raw Cell Format",
  "interpreter": {
   "hash": "7f46a541a5fcb097b81b0a1ed969985dcdc63c81f34ae8abef835ad67b1a564a"
  },
  "kernelspec": {
   "display_name": "Python 3.8.8 ('base')",
   "language": "python",
   "name": "python3"
  },
  "language_info": {
   "codemirror_mode": {
    "name": "ipython",
    "version": 3
   },
   "file_extension": ".py",
   "mimetype": "text/x-python",
   "name": "python",
   "nbconvert_exporter": "python",
   "pygments_lexer": "ipython3",
   "version": "3.8.8"
  }
 },
 "nbformat": 4,
 "nbformat_minor": 4
}
